{
  "nbformat": 4,
  "nbformat_minor": 0,
  "metadata": {
    "colab": {
      "name": "Coursera_Analysis.ipynb",
      "provenance": [],
      "collapsed_sections": [],
      "toc_visible": true
    },
    "kernelspec": {
      "name": "python3",
      "display_name": "Python 3"
    },
    "language_info": {
      "name": "python"
    }
  },
  "cells": [
    {
      "cell_type": "markdown",
      "source": [
        "# import libraries that we will use"
      ],
      "metadata": {
        "id": "ni7bleuKoXUl"
      }
    },
    {
      "cell_type": "code",
      "metadata": {
        "id": "Z6z84GCEjHdm"
      },
      "source": [
        "import seaborn as sns\n",
        "import numpy as np\n",
        "import pandas as pd\n",
        "import matplotlib.pyplot as plt\n",
        "%matplotlib inline\n",
        "sns.set(rc={'figure.figsize': [9, 9]}, font_scale=1.2)"
      ],
      "execution_count": null,
      "outputs": []
    },
    {
      "cell_type": "markdown",
      "source": [
        "# The Data\n",
        "## We will be working with Coursera Course Dataset that from Kaggle \n",
        "##you can download it from this link : (https://www.kaggle.com/siddharthm1698/coursera-course-dataset)\n",
        "### For now, we'll just focus on  Exploratory Data Analysis by using (Pandas and numpy) and the Visualization of the data with seaborn "
      ],
      "metadata": {
        "id": "mRfIsxEopnsX"
      }
    },
    {
      "cell_type": "code",
      "source": [
        "df=pd.read_csv('coursea_data.csv')\n",
        "df"
      ],
      "metadata": {
        "colab": {
          "base_uri": "https://localhost:8080/",
          "height": 532
        },
        "id": "O19AaEYeKMh-",
        "outputId": "48f75f53-63de-4c6f-a981-a5c2c022e4f1"
      },
      "execution_count": null,
      "outputs": [
        {
          "output_type": "execute_result",
          "data": {
            "text/html": [
              "<div>\n",
              "<style scoped>\n",
              "    .dataframe tbody tr th:only-of-type {\n",
              "        vertical-align: middle;\n",
              "    }\n",
              "\n",
              "    .dataframe tbody tr th {\n",
              "        vertical-align: top;\n",
              "    }\n",
              "\n",
              "    .dataframe thead th {\n",
              "        text-align: right;\n",
              "    }\n",
              "</style>\n",
              "<table border=\"1\" class=\"dataframe\">\n",
              "  <thead>\n",
              "    <tr style=\"text-align: right;\">\n",
              "      <th></th>\n",
              "      <th>Unnamed: 0</th>\n",
              "      <th>course_title</th>\n",
              "      <th>course_organization</th>\n",
              "      <th>course_Certificate_type</th>\n",
              "      <th>course_rating</th>\n",
              "      <th>course_difficulty</th>\n",
              "      <th>course_students_enrolled</th>\n",
              "    </tr>\n",
              "  </thead>\n",
              "  <tbody>\n",
              "    <tr>\n",
              "      <th>0</th>\n",
              "      <td>134</td>\n",
              "      <td>(ISC)² Systems Security Certified Practitioner...</td>\n",
              "      <td>(ISC)²</td>\n",
              "      <td>SPECIALIZATION</td>\n",
              "      <td>4.7</td>\n",
              "      <td>Beginner</td>\n",
              "      <td>5.3k</td>\n",
              "    </tr>\n",
              "    <tr>\n",
              "      <th>1</th>\n",
              "      <td>743</td>\n",
              "      <td>A Crash Course in Causality:  Inferring Causal...</td>\n",
              "      <td>University of Pennsylvania</td>\n",
              "      <td>COURSE</td>\n",
              "      <td>4.7</td>\n",
              "      <td>Intermediate</td>\n",
              "      <td>17k</td>\n",
              "    </tr>\n",
              "    <tr>\n",
              "      <th>2</th>\n",
              "      <td>874</td>\n",
              "      <td>A Crash Course in Data Science</td>\n",
              "      <td>Johns Hopkins University</td>\n",
              "      <td>COURSE</td>\n",
              "      <td>4.5</td>\n",
              "      <td>Mixed</td>\n",
              "      <td>130k</td>\n",
              "    </tr>\n",
              "    <tr>\n",
              "      <th>3</th>\n",
              "      <td>413</td>\n",
              "      <td>A Law Student's Toolkit</td>\n",
              "      <td>Yale University</td>\n",
              "      <td>COURSE</td>\n",
              "      <td>4.7</td>\n",
              "      <td>Mixed</td>\n",
              "      <td>91k</td>\n",
              "    </tr>\n",
              "    <tr>\n",
              "      <th>4</th>\n",
              "      <td>635</td>\n",
              "      <td>A Life of Happiness and Fulfillment</td>\n",
              "      <td>Indian School of Business</td>\n",
              "      <td>COURSE</td>\n",
              "      <td>4.8</td>\n",
              "      <td>Mixed</td>\n",
              "      <td>320k</td>\n",
              "    </tr>\n",
              "    <tr>\n",
              "      <th>...</th>\n",
              "      <td>...</td>\n",
              "      <td>...</td>\n",
              "      <td>...</td>\n",
              "      <td>...</td>\n",
              "      <td>...</td>\n",
              "      <td>...</td>\n",
              "      <td>...</td>\n",
              "    </tr>\n",
              "    <tr>\n",
              "      <th>886</th>\n",
              "      <td>236</td>\n",
              "      <td>Программирование на Python</td>\n",
              "      <td>Mail.Ru Group</td>\n",
              "      <td>SPECIALIZATION</td>\n",
              "      <td>4.5</td>\n",
              "      <td>Intermediate</td>\n",
              "      <td>52k</td>\n",
              "    </tr>\n",
              "    <tr>\n",
              "      <th>887</th>\n",
              "      <td>883</td>\n",
              "      <td>Психолингвистика (Psycholinguistics)</td>\n",
              "      <td>Saint Petersburg State University</td>\n",
              "      <td>COURSE</td>\n",
              "      <td>4.8</td>\n",
              "      <td>Mixed</td>\n",
              "      <td>21k</td>\n",
              "    </tr>\n",
              "    <tr>\n",
              "      <th>888</th>\n",
              "      <td>545</td>\n",
              "      <td>Разработка интерфейсов: вёрстка и JavaScript</td>\n",
              "      <td>E-Learning Development Fund</td>\n",
              "      <td>SPECIALIZATION</td>\n",
              "      <td>4.5</td>\n",
              "      <td>Intermediate</td>\n",
              "      <td>30k</td>\n",
              "    </tr>\n",
              "    <tr>\n",
              "      <th>889</th>\n",
              "      <td>875</td>\n",
              "      <td>Русский как иностранный</td>\n",
              "      <td>Saint Petersburg State University</td>\n",
              "      <td>SPECIALIZATION</td>\n",
              "      <td>4.6</td>\n",
              "      <td>Intermediate</td>\n",
              "      <td>9.8k</td>\n",
              "    </tr>\n",
              "    <tr>\n",
              "      <th>890</th>\n",
              "      <td>163</td>\n",
              "      <td>Финансовые инструменты для частного инвестора</td>\n",
              "      <td>National Research University Higher School of ...</td>\n",
              "      <td>SPECIALIZATION</td>\n",
              "      <td>4.7</td>\n",
              "      <td>Beginner</td>\n",
              "      <td>38k</td>\n",
              "    </tr>\n",
              "  </tbody>\n",
              "</table>\n",
              "<p>891 rows × 7 columns</p>\n",
              "</div>"
            ],
            "text/plain": [
              "     Unnamed: 0  ... course_students_enrolled\n",
              "0           134  ...                     5.3k\n",
              "1           743  ...                      17k\n",
              "2           874  ...                     130k\n",
              "3           413  ...                      91k\n",
              "4           635  ...                     320k\n",
              "..          ...  ...                      ...\n",
              "886         236  ...                      52k\n",
              "887         883  ...                      21k\n",
              "888         545  ...                      30k\n",
              "889         875  ...                     9.8k\n",
              "890         163  ...                      38k\n",
              "\n",
              "[891 rows x 7 columns]"
            ]
          },
          "metadata": {},
          "execution_count": 3
        }
      ]
    },
    {
      "cell_type": "code",
      "source": [
        "df.head()"
      ],
      "metadata": {
        "colab": {
          "base_uri": "https://localhost:8080/",
          "height": 213
        },
        "id": "ZcOoEIWiK28k",
        "outputId": "6650c18f-811e-47c4-96fd-7d70bdffcb3c"
      },
      "execution_count": null,
      "outputs": [
        {
          "output_type": "execute_result",
          "data": {
            "text/html": [
              "<div>\n",
              "<style scoped>\n",
              "    .dataframe tbody tr th:only-of-type {\n",
              "        vertical-align: middle;\n",
              "    }\n",
              "\n",
              "    .dataframe tbody tr th {\n",
              "        vertical-align: top;\n",
              "    }\n",
              "\n",
              "    .dataframe thead th {\n",
              "        text-align: right;\n",
              "    }\n",
              "</style>\n",
              "<table border=\"1\" class=\"dataframe\">\n",
              "  <thead>\n",
              "    <tr style=\"text-align: right;\">\n",
              "      <th></th>\n",
              "      <th>Unnamed: 0</th>\n",
              "      <th>course_title</th>\n",
              "      <th>course_organization</th>\n",
              "      <th>course_Certificate_type</th>\n",
              "      <th>course_rating</th>\n",
              "      <th>course_difficulty</th>\n",
              "      <th>course_students_enrolled</th>\n",
              "    </tr>\n",
              "  </thead>\n",
              "  <tbody>\n",
              "    <tr>\n",
              "      <th>0</th>\n",
              "      <td>134</td>\n",
              "      <td>(ISC)² Systems Security Certified Practitioner...</td>\n",
              "      <td>(ISC)²</td>\n",
              "      <td>SPECIALIZATION</td>\n",
              "      <td>4.7</td>\n",
              "      <td>Beginner</td>\n",
              "      <td>5.3k</td>\n",
              "    </tr>\n",
              "    <tr>\n",
              "      <th>1</th>\n",
              "      <td>743</td>\n",
              "      <td>A Crash Course in Causality:  Inferring Causal...</td>\n",
              "      <td>University of Pennsylvania</td>\n",
              "      <td>COURSE</td>\n",
              "      <td>4.7</td>\n",
              "      <td>Intermediate</td>\n",
              "      <td>17k</td>\n",
              "    </tr>\n",
              "    <tr>\n",
              "      <th>2</th>\n",
              "      <td>874</td>\n",
              "      <td>A Crash Course in Data Science</td>\n",
              "      <td>Johns Hopkins University</td>\n",
              "      <td>COURSE</td>\n",
              "      <td>4.5</td>\n",
              "      <td>Mixed</td>\n",
              "      <td>130k</td>\n",
              "    </tr>\n",
              "    <tr>\n",
              "      <th>3</th>\n",
              "      <td>413</td>\n",
              "      <td>A Law Student's Toolkit</td>\n",
              "      <td>Yale University</td>\n",
              "      <td>COURSE</td>\n",
              "      <td>4.7</td>\n",
              "      <td>Mixed</td>\n",
              "      <td>91k</td>\n",
              "    </tr>\n",
              "    <tr>\n",
              "      <th>4</th>\n",
              "      <td>635</td>\n",
              "      <td>A Life of Happiness and Fulfillment</td>\n",
              "      <td>Indian School of Business</td>\n",
              "      <td>COURSE</td>\n",
              "      <td>4.8</td>\n",
              "      <td>Mixed</td>\n",
              "      <td>320k</td>\n",
              "    </tr>\n",
              "  </tbody>\n",
              "</table>\n",
              "</div>"
            ],
            "text/plain": [
              "   Unnamed: 0  ... course_students_enrolled\n",
              "0         134  ...                     5.3k\n",
              "1         743  ...                      17k\n",
              "2         874  ...                     130k\n",
              "3         413  ...                      91k\n",
              "4         635  ...                     320k\n",
              "\n",
              "[5 rows x 7 columns]"
            ]
          },
          "metadata": {},
          "execution_count": 4
        }
      ]
    },
    {
      "cell_type": "code",
      "source": [
        "df.sample(10)"
      ],
      "metadata": {
        "colab": {
          "base_uri": "https://localhost:8080/",
          "height": 488
        },
        "id": "7GDUjn5YK9Jx",
        "outputId": "7bbd9555-63a6-416d-da8b-28f538aedb1e"
      },
      "execution_count": null,
      "outputs": [
        {
          "output_type": "execute_result",
          "data": {
            "text/html": [
              "<div>\n",
              "<style scoped>\n",
              "    .dataframe tbody tr th:only-of-type {\n",
              "        vertical-align: middle;\n",
              "    }\n",
              "\n",
              "    .dataframe tbody tr th {\n",
              "        vertical-align: top;\n",
              "    }\n",
              "\n",
              "    .dataframe thead th {\n",
              "        text-align: right;\n",
              "    }\n",
              "</style>\n",
              "<table border=\"1\" class=\"dataframe\">\n",
              "  <thead>\n",
              "    <tr style=\"text-align: right;\">\n",
              "      <th></th>\n",
              "      <th>Unnamed: 0</th>\n",
              "      <th>course_title</th>\n",
              "      <th>course_organization</th>\n",
              "      <th>course_Certificate_type</th>\n",
              "      <th>course_rating</th>\n",
              "      <th>course_difficulty</th>\n",
              "      <th>course_students_enrolled</th>\n",
              "    </tr>\n",
              "  </thead>\n",
              "  <tbody>\n",
              "    <tr>\n",
              "      <th>400</th>\n",
              "      <td>231</td>\n",
              "      <td>Habilidades Gerenciales</td>\n",
              "      <td>Universidad Nacional Autónoma de México</td>\n",
              "      <td>SPECIALIZATION</td>\n",
              "      <td>4.7</td>\n",
              "      <td>Beginner</td>\n",
              "      <td>43k</td>\n",
              "    </tr>\n",
              "    <tr>\n",
              "      <th>262</th>\n",
              "      <td>303</td>\n",
              "      <td>English for Journalism</td>\n",
              "      <td>University of Pennsylvania</td>\n",
              "      <td>COURSE</td>\n",
              "      <td>4.8</td>\n",
              "      <td>Mixed</td>\n",
              "      <td>130k</td>\n",
              "    </tr>\n",
              "    <tr>\n",
              "      <th>62</th>\n",
              "      <td>437</td>\n",
              "      <td>Architecting with Google Cloud Platform 日本語版</td>\n",
              "      <td>Google Cloud</td>\n",
              "      <td>SPECIALIZATION</td>\n",
              "      <td>4.5</td>\n",
              "      <td>Intermediate</td>\n",
              "      <td>4.2k</td>\n",
              "    </tr>\n",
              "    <tr>\n",
              "      <th>95</th>\n",
              "      <td>143</td>\n",
              "      <td>Blockchain Revolution</td>\n",
              "      <td>INSEAD</td>\n",
              "      <td>SPECIALIZATION</td>\n",
              "      <td>4.7</td>\n",
              "      <td>Beginner</td>\n",
              "      <td>21k</td>\n",
              "    </tr>\n",
              "    <tr>\n",
              "      <th>512</th>\n",
              "      <td>29</td>\n",
              "      <td>Introduction to Psychology</td>\n",
              "      <td>Yale University</td>\n",
              "      <td>COURSE</td>\n",
              "      <td>4.9</td>\n",
              "      <td>Beginner</td>\n",
              "      <td>270k</td>\n",
              "    </tr>\n",
              "    <tr>\n",
              "      <th>59</th>\n",
              "      <td>888</td>\n",
              "      <td>Aprende a programar con Python</td>\n",
              "      <td>Universidad Austral</td>\n",
              "      <td>SPECIALIZATION</td>\n",
              "      <td>4.2</td>\n",
              "      <td>Beginner</td>\n",
              "      <td>6.6k</td>\n",
              "    </tr>\n",
              "    <tr>\n",
              "      <th>311</th>\n",
              "      <td>158</td>\n",
              "      <td>Financial Engineering and Risk Management Part I</td>\n",
              "      <td>Columbia University</td>\n",
              "      <td>COURSE</td>\n",
              "      <td>4.6</td>\n",
              "      <td>Mixed</td>\n",
              "      <td>100k</td>\n",
              "    </tr>\n",
              "    <tr>\n",
              "      <th>681</th>\n",
              "      <td>424</td>\n",
              "      <td>Public Policy Challenges of the 21st Century</td>\n",
              "      <td>University of Virginia</td>\n",
              "      <td>COURSE</td>\n",
              "      <td>4.6</td>\n",
              "      <td>Beginner</td>\n",
              "      <td>52k</td>\n",
              "    </tr>\n",
              "    <tr>\n",
              "      <th>789</th>\n",
              "      <td>298</td>\n",
              "      <td>Terrorism and Counterterrorism: Comparing Theo...</td>\n",
              "      <td>Universiteit Leiden</td>\n",
              "      <td>COURSE</td>\n",
              "      <td>4.8</td>\n",
              "      <td>Beginner</td>\n",
              "      <td>90k</td>\n",
              "    </tr>\n",
              "    <tr>\n",
              "      <th>801</th>\n",
              "      <td>864</td>\n",
              "      <td>The Economics of Health Care Delivery</td>\n",
              "      <td>University of Pennsylvania</td>\n",
              "      <td>COURSE</td>\n",
              "      <td>4.8</td>\n",
              "      <td>Mixed</td>\n",
              "      <td>7.2k</td>\n",
              "    </tr>\n",
              "  </tbody>\n",
              "</table>\n",
              "</div>"
            ],
            "text/plain": [
              "     Unnamed: 0  ... course_students_enrolled\n",
              "400         231  ...                      43k\n",
              "262         303  ...                     130k\n",
              "62          437  ...                     4.2k\n",
              "95          143  ...                      21k\n",
              "512          29  ...                     270k\n",
              "59          888  ...                     6.6k\n",
              "311         158  ...                     100k\n",
              "681         424  ...                      52k\n",
              "789         298  ...                      90k\n",
              "801         864  ...                     7.2k\n",
              "\n",
              "[10 rows x 7 columns]"
            ]
          },
          "metadata": {},
          "execution_count": 5
        }
      ]
    },
    {
      "cell_type": "code",
      "source": [
        "df.tail()"
      ],
      "metadata": {
        "colab": {
          "base_uri": "https://localhost:8080/",
          "height": 269
        },
        "id": "7yeHyRHZK88Q",
        "outputId": "47a77971-009b-4097-cfbc-0ab52feb0570"
      },
      "execution_count": null,
      "outputs": [
        {
          "output_type": "execute_result",
          "data": {
            "text/html": [
              "<div>\n",
              "<style scoped>\n",
              "    .dataframe tbody tr th:only-of-type {\n",
              "        vertical-align: middle;\n",
              "    }\n",
              "\n",
              "    .dataframe tbody tr th {\n",
              "        vertical-align: top;\n",
              "    }\n",
              "\n",
              "    .dataframe thead th {\n",
              "        text-align: right;\n",
              "    }\n",
              "</style>\n",
              "<table border=\"1\" class=\"dataframe\">\n",
              "  <thead>\n",
              "    <tr style=\"text-align: right;\">\n",
              "      <th></th>\n",
              "      <th>Unnamed: 0</th>\n",
              "      <th>course_title</th>\n",
              "      <th>course_organization</th>\n",
              "      <th>course_Certificate_type</th>\n",
              "      <th>course_rating</th>\n",
              "      <th>course_difficulty</th>\n",
              "      <th>course_students_enrolled</th>\n",
              "    </tr>\n",
              "  </thead>\n",
              "  <tbody>\n",
              "    <tr>\n",
              "      <th>886</th>\n",
              "      <td>236</td>\n",
              "      <td>Программирование на Python</td>\n",
              "      <td>Mail.Ru Group</td>\n",
              "      <td>SPECIALIZATION</td>\n",
              "      <td>4.5</td>\n",
              "      <td>Intermediate</td>\n",
              "      <td>52k</td>\n",
              "    </tr>\n",
              "    <tr>\n",
              "      <th>887</th>\n",
              "      <td>883</td>\n",
              "      <td>Психолингвистика (Psycholinguistics)</td>\n",
              "      <td>Saint Petersburg State University</td>\n",
              "      <td>COURSE</td>\n",
              "      <td>4.8</td>\n",
              "      <td>Mixed</td>\n",
              "      <td>21k</td>\n",
              "    </tr>\n",
              "    <tr>\n",
              "      <th>888</th>\n",
              "      <td>545</td>\n",
              "      <td>Разработка интерфейсов: вёрстка и JavaScript</td>\n",
              "      <td>E-Learning Development Fund</td>\n",
              "      <td>SPECIALIZATION</td>\n",
              "      <td>4.5</td>\n",
              "      <td>Intermediate</td>\n",
              "      <td>30k</td>\n",
              "    </tr>\n",
              "    <tr>\n",
              "      <th>889</th>\n",
              "      <td>875</td>\n",
              "      <td>Русский как иностранный</td>\n",
              "      <td>Saint Petersburg State University</td>\n",
              "      <td>SPECIALIZATION</td>\n",
              "      <td>4.6</td>\n",
              "      <td>Intermediate</td>\n",
              "      <td>9.8k</td>\n",
              "    </tr>\n",
              "    <tr>\n",
              "      <th>890</th>\n",
              "      <td>163</td>\n",
              "      <td>Финансовые инструменты для частного инвестора</td>\n",
              "      <td>National Research University Higher School of ...</td>\n",
              "      <td>SPECIALIZATION</td>\n",
              "      <td>4.7</td>\n",
              "      <td>Beginner</td>\n",
              "      <td>38k</td>\n",
              "    </tr>\n",
              "  </tbody>\n",
              "</table>\n",
              "</div>"
            ],
            "text/plain": [
              "     Unnamed: 0  ... course_students_enrolled\n",
              "886         236  ...                      52k\n",
              "887         883  ...                      21k\n",
              "888         545  ...                      30k\n",
              "889         875  ...                     9.8k\n",
              "890         163  ...                      38k\n",
              "\n",
              "[5 rows x 7 columns]"
            ]
          },
          "metadata": {},
          "execution_count": 6
        }
      ]
    },
    {
      "cell_type": "code",
      "source": [
        "df.info()"
      ],
      "metadata": {
        "colab": {
          "base_uri": "https://localhost:8080/"
        },
        "id": "5VwGvNPeKjYE",
        "outputId": "329edb3b-22b4-449e-ae4b-eba31c85f65c"
      },
      "execution_count": null,
      "outputs": [
        {
          "output_type": "stream",
          "name": "stdout",
          "text": [
            "<class 'pandas.core.frame.DataFrame'>\n",
            "RangeIndex: 891 entries, 0 to 890\n",
            "Data columns (total 7 columns):\n",
            " #   Column                    Non-Null Count  Dtype  \n",
            "---  ------                    --------------  -----  \n",
            " 0   Unnamed: 0                891 non-null    int64  \n",
            " 1   course_title              891 non-null    object \n",
            " 2   course_organization       891 non-null    object \n",
            " 3   course_Certificate_type   891 non-null    object \n",
            " 4   course_rating             891 non-null    float64\n",
            " 5   course_difficulty         891 non-null    object \n",
            " 6   course_students_enrolled  891 non-null    object \n",
            "dtypes: float64(1), int64(1), object(5)\n",
            "memory usage: 48.9+ KB\n"
          ]
        }
      ]
    },
    {
      "cell_type": "code",
      "source": [
        "df.describe()"
      ],
      "metadata": {
        "colab": {
          "base_uri": "https://localhost:8080/",
          "height": 311
        },
        "id": "E7RmCtUWKnnZ",
        "outputId": "fdab9f35-63d4-4c9c-f398-ae0681331d63"
      },
      "execution_count": null,
      "outputs": [
        {
          "output_type": "execute_result",
          "data": {
            "text/html": [
              "<div>\n",
              "<style scoped>\n",
              "    .dataframe tbody tr th:only-of-type {\n",
              "        vertical-align: middle;\n",
              "    }\n",
              "\n",
              "    .dataframe tbody tr th {\n",
              "        vertical-align: top;\n",
              "    }\n",
              "\n",
              "    .dataframe thead th {\n",
              "        text-align: right;\n",
              "    }\n",
              "</style>\n",
              "<table border=\"1\" class=\"dataframe\">\n",
              "  <thead>\n",
              "    <tr style=\"text-align: right;\">\n",
              "      <th></th>\n",
              "      <th>Unnamed: 0</th>\n",
              "      <th>course_rating</th>\n",
              "    </tr>\n",
              "  </thead>\n",
              "  <tbody>\n",
              "    <tr>\n",
              "      <th>count</th>\n",
              "      <td>891.000000</td>\n",
              "      <td>891.000000</td>\n",
              "    </tr>\n",
              "    <tr>\n",
              "      <th>mean</th>\n",
              "      <td>445.000000</td>\n",
              "      <td>4.677329</td>\n",
              "    </tr>\n",
              "    <tr>\n",
              "      <th>std</th>\n",
              "      <td>257.353842</td>\n",
              "      <td>0.162225</td>\n",
              "    </tr>\n",
              "    <tr>\n",
              "      <th>min</th>\n",
              "      <td>0.000000</td>\n",
              "      <td>3.300000</td>\n",
              "    </tr>\n",
              "    <tr>\n",
              "      <th>25%</th>\n",
              "      <td>222.500000</td>\n",
              "      <td>4.600000</td>\n",
              "    </tr>\n",
              "    <tr>\n",
              "      <th>50%</th>\n",
              "      <td>445.000000</td>\n",
              "      <td>4.700000</td>\n",
              "    </tr>\n",
              "    <tr>\n",
              "      <th>75%</th>\n",
              "      <td>667.500000</td>\n",
              "      <td>4.800000</td>\n",
              "    </tr>\n",
              "    <tr>\n",
              "      <th>max</th>\n",
              "      <td>890.000000</td>\n",
              "      <td>5.000000</td>\n",
              "    </tr>\n",
              "  </tbody>\n",
              "</table>\n",
              "</div>"
            ],
            "text/plain": [
              "       Unnamed: 0  course_rating\n",
              "count  891.000000     891.000000\n",
              "mean   445.000000       4.677329\n",
              "std    257.353842       0.162225\n",
              "min      0.000000       3.300000\n",
              "25%    222.500000       4.600000\n",
              "50%    445.000000       4.700000\n",
              "75%    667.500000       4.800000\n",
              "max    890.000000       5.000000"
            ]
          },
          "metadata": {},
          "execution_count": 9
        }
      ]
    },
    {
      "cell_type": "markdown",
      "source": [
        "# From( Unnamed: 0) , we realized it is useless so we can drop this column"
      ],
      "metadata": {
        "id": "f1QXw9vhtyen"
      }
    },
    {
      "cell_type": "code",
      "source": [
        "df.drop('Unnamed: 0', axis=1,inplace=True)"
      ],
      "metadata": {
        "id": "2D7WaU3JLk8D"
      },
      "execution_count": null,
      "outputs": []
    },
    {
      "cell_type": "code",
      "source": [
        "df"
      ],
      "metadata": {
        "colab": {
          "base_uri": "https://localhost:8080/",
          "height": 477
        },
        "id": "LDAN2G4ANO_n",
        "outputId": "b554ecae-e42e-4897-c04d-181802d70b7d"
      },
      "execution_count": null,
      "outputs": [
        {
          "output_type": "execute_result",
          "data": {
            "text/html": [
              "<div>\n",
              "<style scoped>\n",
              "    .dataframe tbody tr th:only-of-type {\n",
              "        vertical-align: middle;\n",
              "    }\n",
              "\n",
              "    .dataframe tbody tr th {\n",
              "        vertical-align: top;\n",
              "    }\n",
              "\n",
              "    .dataframe thead th {\n",
              "        text-align: right;\n",
              "    }\n",
              "</style>\n",
              "<table border=\"1\" class=\"dataframe\">\n",
              "  <thead>\n",
              "    <tr style=\"text-align: right;\">\n",
              "      <th></th>\n",
              "      <th>course_title</th>\n",
              "      <th>course_organization</th>\n",
              "      <th>course_Certificate_type</th>\n",
              "      <th>course_rating</th>\n",
              "      <th>course_difficulty</th>\n",
              "      <th>course_students_enrolled</th>\n",
              "    </tr>\n",
              "  </thead>\n",
              "  <tbody>\n",
              "    <tr>\n",
              "      <th>0</th>\n",
              "      <td>(ISC)² Systems Security Certified Practitioner...</td>\n",
              "      <td>(ISC)²</td>\n",
              "      <td>SPECIALIZATION</td>\n",
              "      <td>4.7</td>\n",
              "      <td>Beginner</td>\n",
              "      <td>5.3k</td>\n",
              "    </tr>\n",
              "    <tr>\n",
              "      <th>1</th>\n",
              "      <td>A Crash Course in Causality:  Inferring Causal...</td>\n",
              "      <td>University of Pennsylvania</td>\n",
              "      <td>COURSE</td>\n",
              "      <td>4.7</td>\n",
              "      <td>Intermediate</td>\n",
              "      <td>17k</td>\n",
              "    </tr>\n",
              "    <tr>\n",
              "      <th>2</th>\n",
              "      <td>A Crash Course in Data Science</td>\n",
              "      <td>Johns Hopkins University</td>\n",
              "      <td>COURSE</td>\n",
              "      <td>4.5</td>\n",
              "      <td>Mixed</td>\n",
              "      <td>130k</td>\n",
              "    </tr>\n",
              "    <tr>\n",
              "      <th>3</th>\n",
              "      <td>A Law Student's Toolkit</td>\n",
              "      <td>Yale University</td>\n",
              "      <td>COURSE</td>\n",
              "      <td>4.7</td>\n",
              "      <td>Mixed</td>\n",
              "      <td>91k</td>\n",
              "    </tr>\n",
              "    <tr>\n",
              "      <th>4</th>\n",
              "      <td>A Life of Happiness and Fulfillment</td>\n",
              "      <td>Indian School of Business</td>\n",
              "      <td>COURSE</td>\n",
              "      <td>4.8</td>\n",
              "      <td>Mixed</td>\n",
              "      <td>320k</td>\n",
              "    </tr>\n",
              "    <tr>\n",
              "      <th>...</th>\n",
              "      <td>...</td>\n",
              "      <td>...</td>\n",
              "      <td>...</td>\n",
              "      <td>...</td>\n",
              "      <td>...</td>\n",
              "      <td>...</td>\n",
              "    </tr>\n",
              "    <tr>\n",
              "      <th>886</th>\n",
              "      <td>Программирование на Python</td>\n",
              "      <td>Mail.Ru Group</td>\n",
              "      <td>SPECIALIZATION</td>\n",
              "      <td>4.5</td>\n",
              "      <td>Intermediate</td>\n",
              "      <td>52k</td>\n",
              "    </tr>\n",
              "    <tr>\n",
              "      <th>887</th>\n",
              "      <td>Психолингвистика (Psycholinguistics)</td>\n",
              "      <td>Saint Petersburg State University</td>\n",
              "      <td>COURSE</td>\n",
              "      <td>4.8</td>\n",
              "      <td>Mixed</td>\n",
              "      <td>21k</td>\n",
              "    </tr>\n",
              "    <tr>\n",
              "      <th>888</th>\n",
              "      <td>Разработка интерфейсов: вёрстка и JavaScript</td>\n",
              "      <td>E-Learning Development Fund</td>\n",
              "      <td>SPECIALIZATION</td>\n",
              "      <td>4.5</td>\n",
              "      <td>Intermediate</td>\n",
              "      <td>30k</td>\n",
              "    </tr>\n",
              "    <tr>\n",
              "      <th>889</th>\n",
              "      <td>Русский как иностранный</td>\n",
              "      <td>Saint Petersburg State University</td>\n",
              "      <td>SPECIALIZATION</td>\n",
              "      <td>4.6</td>\n",
              "      <td>Intermediate</td>\n",
              "      <td>9.8k</td>\n",
              "    </tr>\n",
              "    <tr>\n",
              "      <th>890</th>\n",
              "      <td>Финансовые инструменты для частного инвестора</td>\n",
              "      <td>National Research University Higher School of ...</td>\n",
              "      <td>SPECIALIZATION</td>\n",
              "      <td>4.7</td>\n",
              "      <td>Beginner</td>\n",
              "      <td>38k</td>\n",
              "    </tr>\n",
              "  </tbody>\n",
              "</table>\n",
              "<p>891 rows × 6 columns</p>\n",
              "</div>"
            ],
            "text/plain": [
              "                                          course_title  ... course_students_enrolled\n",
              "0    (ISC)² Systems Security Certified Practitioner...  ...                     5.3k\n",
              "1    A Crash Course in Causality:  Inferring Causal...  ...                      17k\n",
              "2                       A Crash Course in Data Science  ...                     130k\n",
              "3                              A Law Student's Toolkit  ...                      91k\n",
              "4                  A Life of Happiness and Fulfillment  ...                     320k\n",
              "..                                                 ...  ...                      ...\n",
              "886                         Программирование на Python  ...                      52k\n",
              "887               Психолингвистика (Psycholinguistics)  ...                      21k\n",
              "888       Разработка интерфейсов: вёрстка и JavaScript  ...                      30k\n",
              "889                            Русский как иностранный  ...                     9.8k\n",
              "890      Финансовые инструменты для частного инвестора  ...                      38k\n",
              "\n",
              "[891 rows x 6 columns]"
            ]
          },
          "metadata": {},
          "execution_count": 12
        }
      ]
    },
    {
      "cell_type": "markdown",
      "source": [
        "# Feature Engineering \n",
        "\n",
        "## In column (course_students_enrolled) change k to 1000 , m to 1000000 and  change type from categorical column to numerical column"
      ],
      "metadata": {
        "id": "bSorPrU6uxZV"
      }
    },
    {
      "cell_type": "code",
      "source": [
        "df['course_students_enrolled'].unique()"
      ],
      "metadata": {
        "colab": {
          "base_uri": "https://localhost:8080/"
        },
        "id": "FK9KcaV2NYme",
        "outputId": "0949e395-5f39-4909-f661-7c7bee56216a"
      },
      "execution_count": null,
      "outputs": [
        {
          "output_type": "execute_result",
          "data": {
            "text/plain": [
              "array(['5.3k', '17k', '130k', '91k', '320k', '39k', '350k', '2.4k', '61k',\n",
              "       '12k', '4k', '13k', '11k', '27k', '110k', '6.6k', '540k', '22k',\n",
              "       '2.9k', '80k', '9.9k', '23k', '9.2k', '78k', '190k', '35k', '29k',\n",
              "       '14k', '21k', '94k', '69k', '40k', '220k', '150k', '18k', '270k',\n",
              "       '7.9k', '30k', '36k', '20k', '8.1k', '120k', '71k', '63k', '42k',\n",
              "       '480k', '97k', '200k', '180k', '4.2k', '310k', '3.9k', '79k',\n",
              "       '31k', '15k', '10k', '66k', '33k', '56k', '7.3k', '9.7k', '210k',\n",
              "       '28k', '6.5k', '55k', '2.3k', '8.8k', '88k', '1.9k', '68k', '1.6k',\n",
              "       '9.5k', '57k', '26k', '84k', '95k', '5.8k', '24k', '67k', '280k',\n",
              "       '38k', '77k', '510k', '89k', '48k', '160k', '32k', '340k', '82k',\n",
              "       '790k', '19k', '51k', '4.8k', '37k', '43k', '6.4k', '49k', '240k',\n",
              "       '46k', '7.8k', '75k', '81k', '140k', '5.5k', '99k', '100k', '3k',\n",
              "       '830k', '740k', '60k', '96k', '690k', '44k', '4.5k', '8.2k', '16k',\n",
              "       '300k', '8k', '41k', '54k', '9k', '380k', '58k', '5.6k', '7.1k',\n",
              "       '83k', '3.4k', '1.5k', '230k', '760k', '86k', '45k', '7.2k',\n",
              "       '1.8k', '4.1k', '76k', '490k', '170k', '260k', '65k', '470k',\n",
              "       '400k', '4.4k', '62k', '64k', '3.2k', '52k', '290k', '25k', '47k',\n",
              "       '4.9k', '9.4k', '34k', '59k', '73k', '3.6k', '7.6k', '3.8k', '93k',\n",
              "       '430k', '7.4k', '5.4k', '1.7k', '98k', '3.5k', '3.3k', '2.2k',\n",
              "       '610k', '72k', '85k', '8.7k', '53k', '2.6k', '390k', '74k', '6k',\n",
              "       '87k', '370k', '6.3k', '5.9k', '3.2m', '8.4k', '9.1k', '70k',\n",
              "       '630k', '250k', '330k', '6.2k', '92k', '8.9k', '50k', '1.3m',\n",
              "       '440k', '420k', '1.5m', '7.7k', '5.2k', '7k', '6.8k', '750k',\n",
              "       '8.5k', '90k', '2.5m', '6.1k', '9.8k'], dtype=object)"
            ]
          },
          "metadata": {},
          "execution_count": 13
        }
      ]
    },
    {
      "cell_type": "code",
      "source": [
        "def transfer_to_numerical(text) :\n",
        " if 'k' in text:\n",
        "   num= text.split('k')\n",
        "   return( float(num[0]) * 1000)\n",
        " if 'm' in text :\n",
        "   num=text.split('m')\n",
        "   return( float(num[0]) * 1000000)"
      ],
      "metadata": {
        "id": "yw8dhwAcQzSr"
      },
      "execution_count": null,
      "outputs": []
    },
    {
      "cell_type": "code",
      "source": [
        "df['course_students_enrolled'] = df['course_students_enrolled'].apply(transfer_to_numerical)"
      ],
      "metadata": {
        "id": "Dc6DxMIiQ-fz"
      },
      "execution_count": null,
      "outputs": []
    },
    {
      "cell_type": "code",
      "source": [
        "df"
      ],
      "metadata": {
        "colab": {
          "base_uri": "https://localhost:8080/",
          "height": 477
        },
        "id": "97CV7FJ4RDoS",
        "outputId": "80f85b0d-077f-4a82-bc7e-6095fa33e619"
      },
      "execution_count": null,
      "outputs": [
        {
          "output_type": "execute_result",
          "data": {
            "text/html": [
              "<div>\n",
              "<style scoped>\n",
              "    .dataframe tbody tr th:only-of-type {\n",
              "        vertical-align: middle;\n",
              "    }\n",
              "\n",
              "    .dataframe tbody tr th {\n",
              "        vertical-align: top;\n",
              "    }\n",
              "\n",
              "    .dataframe thead th {\n",
              "        text-align: right;\n",
              "    }\n",
              "</style>\n",
              "<table border=\"1\" class=\"dataframe\">\n",
              "  <thead>\n",
              "    <tr style=\"text-align: right;\">\n",
              "      <th></th>\n",
              "      <th>course_title</th>\n",
              "      <th>course_organization</th>\n",
              "      <th>course_Certificate_type</th>\n",
              "      <th>course_rating</th>\n",
              "      <th>course_difficulty</th>\n",
              "      <th>course_students_enrolled</th>\n",
              "    </tr>\n",
              "  </thead>\n",
              "  <tbody>\n",
              "    <tr>\n",
              "      <th>0</th>\n",
              "      <td>(ISC)² Systems Security Certified Practitioner...</td>\n",
              "      <td>(ISC)²</td>\n",
              "      <td>SPECIALIZATION</td>\n",
              "      <td>4.7</td>\n",
              "      <td>Beginner</td>\n",
              "      <td>5300.0</td>\n",
              "    </tr>\n",
              "    <tr>\n",
              "      <th>1</th>\n",
              "      <td>A Crash Course in Causality:  Inferring Causal...</td>\n",
              "      <td>University of Pennsylvania</td>\n",
              "      <td>COURSE</td>\n",
              "      <td>4.7</td>\n",
              "      <td>Intermediate</td>\n",
              "      <td>17000.0</td>\n",
              "    </tr>\n",
              "    <tr>\n",
              "      <th>2</th>\n",
              "      <td>A Crash Course in Data Science</td>\n",
              "      <td>Johns Hopkins University</td>\n",
              "      <td>COURSE</td>\n",
              "      <td>4.5</td>\n",
              "      <td>Mixed</td>\n",
              "      <td>130000.0</td>\n",
              "    </tr>\n",
              "    <tr>\n",
              "      <th>3</th>\n",
              "      <td>A Law Student's Toolkit</td>\n",
              "      <td>Yale University</td>\n",
              "      <td>COURSE</td>\n",
              "      <td>4.7</td>\n",
              "      <td>Mixed</td>\n",
              "      <td>91000.0</td>\n",
              "    </tr>\n",
              "    <tr>\n",
              "      <th>4</th>\n",
              "      <td>A Life of Happiness and Fulfillment</td>\n",
              "      <td>Indian School of Business</td>\n",
              "      <td>COURSE</td>\n",
              "      <td>4.8</td>\n",
              "      <td>Mixed</td>\n",
              "      <td>320000.0</td>\n",
              "    </tr>\n",
              "    <tr>\n",
              "      <th>...</th>\n",
              "      <td>...</td>\n",
              "      <td>...</td>\n",
              "      <td>...</td>\n",
              "      <td>...</td>\n",
              "      <td>...</td>\n",
              "      <td>...</td>\n",
              "    </tr>\n",
              "    <tr>\n",
              "      <th>886</th>\n",
              "      <td>Программирование на Python</td>\n",
              "      <td>Mail.Ru Group</td>\n",
              "      <td>SPECIALIZATION</td>\n",
              "      <td>4.5</td>\n",
              "      <td>Intermediate</td>\n",
              "      <td>52000.0</td>\n",
              "    </tr>\n",
              "    <tr>\n",
              "      <th>887</th>\n",
              "      <td>Психолингвистика (Psycholinguistics)</td>\n",
              "      <td>Saint Petersburg State University</td>\n",
              "      <td>COURSE</td>\n",
              "      <td>4.8</td>\n",
              "      <td>Mixed</td>\n",
              "      <td>21000.0</td>\n",
              "    </tr>\n",
              "    <tr>\n",
              "      <th>888</th>\n",
              "      <td>Разработка интерфейсов: вёрстка и JavaScript</td>\n",
              "      <td>E-Learning Development Fund</td>\n",
              "      <td>SPECIALIZATION</td>\n",
              "      <td>4.5</td>\n",
              "      <td>Intermediate</td>\n",
              "      <td>30000.0</td>\n",
              "    </tr>\n",
              "    <tr>\n",
              "      <th>889</th>\n",
              "      <td>Русский как иностранный</td>\n",
              "      <td>Saint Petersburg State University</td>\n",
              "      <td>SPECIALIZATION</td>\n",
              "      <td>4.6</td>\n",
              "      <td>Intermediate</td>\n",
              "      <td>9800.0</td>\n",
              "    </tr>\n",
              "    <tr>\n",
              "      <th>890</th>\n",
              "      <td>Финансовые инструменты для частного инвестора</td>\n",
              "      <td>National Research University Higher School of ...</td>\n",
              "      <td>SPECIALIZATION</td>\n",
              "      <td>4.7</td>\n",
              "      <td>Beginner</td>\n",
              "      <td>38000.0</td>\n",
              "    </tr>\n",
              "  </tbody>\n",
              "</table>\n",
              "<p>891 rows × 6 columns</p>\n",
              "</div>"
            ],
            "text/plain": [
              "                                          course_title  ... course_students_enrolled\n",
              "0    (ISC)² Systems Security Certified Practitioner...  ...                   5300.0\n",
              "1    A Crash Course in Causality:  Inferring Causal...  ...                  17000.0\n",
              "2                       A Crash Course in Data Science  ...                 130000.0\n",
              "3                              A Law Student's Toolkit  ...                  91000.0\n",
              "4                  A Life of Happiness and Fulfillment  ...                 320000.0\n",
              "..                                                 ...  ...                      ...\n",
              "886                         Программирование на Python  ...                  52000.0\n",
              "887               Психолингвистика (Psycholinguistics)  ...                  21000.0\n",
              "888       Разработка интерфейсов: вёрстка и JavaScript  ...                  30000.0\n",
              "889                            Русский как иностранный  ...                   9800.0\n",
              "890      Финансовые инструменты для частного инвестора  ...                  38000.0\n",
              "\n",
              "[891 rows x 6 columns]"
            ]
          },
          "metadata": {},
          "execution_count": 16
        }
      ]
    },
    {
      "cell_type": "code",
      "source": [
        "df.info()"
      ],
      "metadata": {
        "colab": {
          "base_uri": "https://localhost:8080/"
        },
        "id": "HNcEnpvRRHL2",
        "outputId": "676ca67d-2c40-484d-c820-c8e45c0e4dad"
      },
      "execution_count": null,
      "outputs": [
        {
          "output_type": "stream",
          "name": "stdout",
          "text": [
            "<class 'pandas.core.frame.DataFrame'>\n",
            "RangeIndex: 891 entries, 0 to 890\n",
            "Data columns (total 6 columns):\n",
            " #   Column                    Non-Null Count  Dtype  \n",
            "---  ------                    --------------  -----  \n",
            " 0   course_title              891 non-null    object \n",
            " 1   course_organization       891 non-null    object \n",
            " 2   course_Certificate_type   891 non-null    object \n",
            " 3   course_rating             891 non-null    float64\n",
            " 4   course_difficulty         891 non-null    object \n",
            " 5   course_students_enrolled  891 non-null    float64\n",
            "dtypes: float64(2), object(4)\n",
            "memory usage: 41.9+ KB\n"
          ]
        }
      ]
    },
    {
      "cell_type": "markdown",
      "source": [
        "# Univariate analysis\n",
        "## Statistical Information about (course_student_enrolled) "
      ],
      "metadata": {
        "id": "_f8mfDD2zyxo"
      }
    },
    {
      "cell_type": "code",
      "source": [
        "df['course_students_enrolled'].describe()"
      ],
      "metadata": {
        "colab": {
          "base_uri": "https://localhost:8080/"
        },
        "id": "eukJi3QPRLXZ",
        "outputId": "1e62c1a1-9a33-4b13-ebe1-23e32a2bcb68"
      },
      "execution_count": null,
      "outputs": [
        {
          "output_type": "execute_result",
          "data": {
            "text/plain": [
              "count    8.910000e+02\n",
              "mean     9.055208e+04\n",
              "std      1.819365e+05\n",
              "min      1.500000e+03\n",
              "25%      1.750000e+04\n",
              "50%      4.200000e+04\n",
              "75%      9.950000e+04\n",
              "max      3.200000e+06\n",
              "Name: course_students_enrolled, dtype: float64"
            ]
          },
          "metadata": {},
          "execution_count": 18
        }
      ]
    },
    {
      "cell_type": "code",
      "source": [
        "df['course_students_enrolled'].value_counts()"
      ],
      "metadata": {
        "colab": {
          "base_uri": "https://localhost:8080/"
        },
        "id": "HCR6ZQNqRXcr",
        "outputId": "576169fe-97f5-41f1-f158-abff0d62e161"
      },
      "execution_count": null,
      "outputs": [
        {
          "output_type": "execute_result",
          "data": {
            "text/plain": [
              "120000.0     22\n",
              "12000.0      20\n",
              "110000.0     20\n",
              "22000.0      19\n",
              "14000.0      17\n",
              "             ..\n",
              "750000.0      1\n",
              "2500000.0     1\n",
              "8700.0        1\n",
              "390000.0      1\n",
              "7600.0        1\n",
              "Name: course_students_enrolled, Length: 205, dtype: int64"
            ]
          },
          "metadata": {},
          "execution_count": 19
        }
      ]
    },
    {
      "cell_type": "markdown",
      "source": [
        "# Univariate Visualization\n"
      ],
      "metadata": {
        "id": "B050Gs2SzQ55"
      }
    },
    {
      "cell_type": "markdown",
      "source": [
        "##  1.kdeplot"
      ],
      "metadata": {
        "id": "5aIxDwts6b_-"
      }
    },
    {
      "cell_type": "code",
      "source": [
        "sns.kdeplot(data=df, x=df['course_students_enrolled'])"
      ],
      "metadata": {
        "colab": {
          "base_uri": "https://localhost:8080/",
          "height": 593
        },
        "id": "Q4MtFNLrNcxF",
        "outputId": "19ccdec8-1dfb-4482-907d-2619f35f6e6d"
      },
      "execution_count": null,
      "outputs": [
        {
          "output_type": "execute_result",
          "data": {
            "text/plain": [
              "<matplotlib.axes._subplots.AxesSubplot at 0x7ffa11cb5e90>"
            ]
          },
          "metadata": {},
          "execution_count": 20
        },
        {
          "output_type": "display_data",
          "data": {
            "image/png": "[encoded data removed]",
            "text/plain": [
              "<Figure size 648x648 with 1 Axes>"
            ]
          },
          "metadata": {}
        }
      ]
    },
    {
      "cell_type": "markdown",
      "source": [
        "##  2.displot"
      ],
      "metadata": {
        "id": "SlrvumAT3FmS"
      }
    },
    {
      "cell_type": "code",
      "source": [
        "sns.displot(data=df,x=df['course_students_enrolled'],kde=False,bins=100)"
      ],
      "metadata": {
        "colab": {
          "base_uri": "https://localhost:8080/",
          "height": 379
        },
        "id": "8YwQGQJURkqj",
        "outputId": "f89b39c0-e667-4845-fa93-bf1fc6ad8123"
      },
      "execution_count": null,
      "outputs": [
        {
          "output_type": "execute_result",
          "data": {
            "text/plain": [
              "<seaborn.axisgrid.FacetGrid at 0x7ffa1132bd10>"
            ]
          },
          "metadata": {},
          "execution_count": 21
        },
        {
          "output_type": "display_data",
          "data": {
            "image/png": "[encoded data removed]",
            "text/plain": [
              "<Figure size 360x360 with 1 Axes>"
            ]
          },
          "metadata": {}
        }
      ]
    },
    {
      "cell_type": "markdown",
      "source": [
        "# Bivariate Analysis and visualization\n",
        "with (course_students_enrolled) and (course_rating)"
      ],
      "metadata": {
        "id": "YUeVPiRZ3e-2"
      }
    },
    {
      "cell_type": "code",
      "source": [
        "df.groupby('course_rating')['course_students_enrolled'].count()\n"
      ],
      "metadata": {
        "colab": {
          "base_uri": "https://localhost:8080/"
        },
        "id": "fpvQDiroUjWB",
        "outputId": "a0b4279d-b618-44a6-db7d-01d74aebcf77"
      },
      "execution_count": null,
      "outputs": [
        {
          "output_type": "execute_result",
          "data": {
            "text/plain": [
              "course_rating\n",
              "3.3      1\n",
              "3.7      1\n",
              "3.9      2\n",
              "4.0      2\n",
              "4.1      1\n",
              "4.2     10\n",
              "4.3     15\n",
              "4.4     34\n",
              "4.5     80\n",
              "4.6    168\n",
              "4.7    251\n",
              "4.8    256\n",
              "4.9     68\n",
              "5.0      2\n",
              "Name: course_students_enrolled, dtype: int64"
            ]
          },
          "metadata": {},
          "execution_count": 22
        }
      ]
    },
    {
      "cell_type": "code",
      "source": [
        "df.groupby('course_rating')['course_students_enrolled'].describe()"
      ],
      "metadata": {
        "colab": {
          "base_uri": "https://localhost:8080/",
          "height": 540
        },
        "id": "9gfslV0CUMj3",
        "outputId": "2a488cac-f4ba-472e-a445-a248201591db"
      },
      "execution_count": null,
      "outputs": [
        {
          "output_type": "execute_result",
          "data": {
            "text/html": [
              "<div>\n",
              "<style scoped>\n",
              "    .dataframe tbody tr th:only-of-type {\n",
              "        vertical-align: middle;\n",
              "    }\n",
              "\n",
              "    .dataframe tbody tr th {\n",
              "        vertical-align: top;\n",
              "    }\n",
              "\n",
              "    .dataframe thead th {\n",
              "        text-align: right;\n",
              "    }\n",
              "</style>\n",
              "<table border=\"1\" class=\"dataframe\">\n",
              "  <thead>\n",
              "    <tr style=\"text-align: right;\">\n",
              "      <th></th>\n",
              "      <th>count</th>\n",
              "      <th>mean</th>\n",
              "      <th>std</th>\n",
              "      <th>min</th>\n",
              "      <th>25%</th>\n",
              "      <th>50%</th>\n",
              "      <th>75%</th>\n",
              "      <th>max</th>\n",
              "    </tr>\n",
              "    <tr>\n",
              "      <th>course_rating</th>\n",
              "      <th></th>\n",
              "      <th></th>\n",
              "      <th></th>\n",
              "      <th></th>\n",
              "      <th></th>\n",
              "      <th></th>\n",
              "      <th></th>\n",
              "      <th></th>\n",
              "    </tr>\n",
              "  </thead>\n",
              "  <tbody>\n",
              "    <tr>\n",
              "      <th>3.3</th>\n",
              "      <td>1.0</td>\n",
              "      <td>140000.000000</td>\n",
              "      <td>NaN</td>\n",
              "      <td>140000.0</td>\n",
              "      <td>140000.0</td>\n",
              "      <td>140000.0</td>\n",
              "      <td>140000.0</td>\n",
              "      <td>140000.0</td>\n",
              "    </tr>\n",
              "    <tr>\n",
              "      <th>3.7</th>\n",
              "      <td>1.0</td>\n",
              "      <td>29000.000000</td>\n",
              "      <td>NaN</td>\n",
              "      <td>29000.0</td>\n",
              "      <td>29000.0</td>\n",
              "      <td>29000.0</td>\n",
              "      <td>29000.0</td>\n",
              "      <td>29000.0</td>\n",
              "    </tr>\n",
              "    <tr>\n",
              "      <th>3.9</th>\n",
              "      <td>2.0</td>\n",
              "      <td>45500.000000</td>\n",
              "      <td>43133.513652</td>\n",
              "      <td>15000.0</td>\n",
              "      <td>30250.0</td>\n",
              "      <td>45500.0</td>\n",
              "      <td>60750.0</td>\n",
              "      <td>76000.0</td>\n",
              "    </tr>\n",
              "    <tr>\n",
              "      <th>4.0</th>\n",
              "      <td>2.0</td>\n",
              "      <td>23000.000000</td>\n",
              "      <td>14142.135624</td>\n",
              "      <td>13000.0</td>\n",
              "      <td>18000.0</td>\n",
              "      <td>23000.0</td>\n",
              "      <td>28000.0</td>\n",
              "      <td>33000.0</td>\n",
              "    </tr>\n",
              "    <tr>\n",
              "      <th>4.1</th>\n",
              "      <td>1.0</td>\n",
              "      <td>34000.000000</td>\n",
              "      <td>NaN</td>\n",
              "      <td>34000.0</td>\n",
              "      <td>34000.0</td>\n",
              "      <td>34000.0</td>\n",
              "      <td>34000.0</td>\n",
              "      <td>34000.0</td>\n",
              "    </tr>\n",
              "    <tr>\n",
              "      <th>4.2</th>\n",
              "      <td>10.0</td>\n",
              "      <td>63720.000000</td>\n",
              "      <td>87703.652528</td>\n",
              "      <td>6200.0</td>\n",
              "      <td>8550.0</td>\n",
              "      <td>19500.0</td>\n",
              "      <td>74500.0</td>\n",
              "      <td>280000.0</td>\n",
              "    </tr>\n",
              "    <tr>\n",
              "      <th>4.3</th>\n",
              "      <td>15.0</td>\n",
              "      <td>41600.000000</td>\n",
              "      <td>33226.065499</td>\n",
              "      <td>11000.0</td>\n",
              "      <td>21000.0</td>\n",
              "      <td>29000.0</td>\n",
              "      <td>56000.0</td>\n",
              "      <td>140000.0</td>\n",
              "    </tr>\n",
              "    <tr>\n",
              "      <th>4.4</th>\n",
              "      <td>34.0</td>\n",
              "      <td>81841.176471</td>\n",
              "      <td>142373.022891</td>\n",
              "      <td>2400.0</td>\n",
              "      <td>11250.0</td>\n",
              "      <td>44500.0</td>\n",
              "      <td>97000.0</td>\n",
              "      <td>790000.0</td>\n",
              "    </tr>\n",
              "    <tr>\n",
              "      <th>4.5</th>\n",
              "      <td>80.0</td>\n",
              "      <td>74525.000000</td>\n",
              "      <td>116610.662930</td>\n",
              "      <td>1800.0</td>\n",
              "      <td>15250.0</td>\n",
              "      <td>36000.0</td>\n",
              "      <td>81750.0</td>\n",
              "      <td>830000.0</td>\n",
              "    </tr>\n",
              "    <tr>\n",
              "      <th>4.6</th>\n",
              "      <td>168.0</td>\n",
              "      <td>93947.619048</td>\n",
              "      <td>120994.905100</td>\n",
              "      <td>1600.0</td>\n",
              "      <td>16750.0</td>\n",
              "      <td>42500.0</td>\n",
              "      <td>130000.0</td>\n",
              "      <td>740000.0</td>\n",
              "    </tr>\n",
              "    <tr>\n",
              "      <th>4.7</th>\n",
              "      <td>251.0</td>\n",
              "      <td>81971.713147</td>\n",
              "      <td>96194.615840</td>\n",
              "      <td>1700.0</td>\n",
              "      <td>21000.0</td>\n",
              "      <td>43000.0</td>\n",
              "      <td>110000.0</td>\n",
              "      <td>610000.0</td>\n",
              "    </tr>\n",
              "    <tr>\n",
              "      <th>4.8</th>\n",
              "      <td>256.0</td>\n",
              "      <td>87248.437500</td>\n",
              "      <td>158507.063978</td>\n",
              "      <td>1900.0</td>\n",
              "      <td>18000.0</td>\n",
              "      <td>43000.0</td>\n",
              "      <td>84250.0</td>\n",
              "      <td>1500000.0</td>\n",
              "    </tr>\n",
              "    <tr>\n",
              "      <th>4.9</th>\n",
              "      <td>68.0</td>\n",
              "      <td>171166.176471</td>\n",
              "      <td>487072.999711</td>\n",
              "      <td>1700.0</td>\n",
              "      <td>14500.0</td>\n",
              "      <td>45000.0</td>\n",
              "      <td>132500.0</td>\n",
              "      <td>3200000.0</td>\n",
              "    </tr>\n",
              "    <tr>\n",
              "      <th>5.0</th>\n",
              "      <td>2.0</td>\n",
              "      <td>1550.000000</td>\n",
              "      <td>70.710678</td>\n",
              "      <td>1500.0</td>\n",
              "      <td>1525.0</td>\n",
              "      <td>1550.0</td>\n",
              "      <td>1575.0</td>\n",
              "      <td>1600.0</td>\n",
              "    </tr>\n",
              "  </tbody>\n",
              "</table>\n",
              "</div>"
            ],
            "text/plain": [
              "               count           mean  ...       75%        max\n",
              "course_rating                        ...                     \n",
              "3.3              1.0  140000.000000  ...  140000.0   140000.0\n",
              "3.7              1.0   29000.000000  ...   29000.0    29000.0\n",
              "3.9              2.0   45500.000000  ...   60750.0    76000.0\n",
              "4.0              2.0   23000.000000  ...   28000.0    33000.0\n",
              "4.1              1.0   34000.000000  ...   34000.0    34000.0\n",
              "4.2             10.0   63720.000000  ...   74500.0   280000.0\n",
              "4.3             15.0   41600.000000  ...   56000.0   140000.0\n",
              "4.4             34.0   81841.176471  ...   97000.0   790000.0\n",
              "4.5             80.0   74525.000000  ...   81750.0   830000.0\n",
              "4.6            168.0   93947.619048  ...  130000.0   740000.0\n",
              "4.7            251.0   81971.713147  ...  110000.0   610000.0\n",
              "4.8            256.0   87248.437500  ...   84250.0  1500000.0\n",
              "4.9             68.0  171166.176471  ...  132500.0  3200000.0\n",
              "5.0              2.0    1550.000000  ...    1575.0     1600.0\n",
              "\n",
              "[14 rows x 8 columns]"
            ]
          },
          "metadata": {},
          "execution_count": 24
        }
      ]
    },
    {
      "cell_type": "markdown",
      "source": [
        "##  1.barplot "
      ],
      "metadata": {
        "id": "lFHh1BVv5GOg"
      }
    },
    {
      "cell_type": "code",
      "source": [
        "sns.barplot(x='course_rating',y='course_students_enrolled',data=df)"
      ],
      "metadata": {
        "colab": {
          "base_uri": "https://localhost:8080/",
          "height": 580
        },
        "id": "no2AXBfiXWjp",
        "outputId": "83033167-21f3-4413-f462-b56717c6ed9f"
      },
      "execution_count": null,
      "outputs": [
        {
          "output_type": "execute_result",
          "data": {
            "text/plain": [
              "<matplotlib.axes._subplots.AxesSubplot at 0x7ffa05a6f550>"
            ]
          },
          "metadata": {},
          "execution_count": 23
        },
        {
          "output_type": "display_data",
          "data": {
            "image/png": "[encoded data removed]",
            "text/plain": [
              "<Figure size 648x648 with 1 Axes>"
            ]
          },
          "metadata": {}
        }
      ]
    },
    {
      "cell_type": "markdown",
      "source": [
        "##  2.jointplot \n",
        "* “scatter” \n",
        "* “reg” \n",
        "* “kde” \n"
      ],
      "metadata": {
        "id": "iN2xLqBg5g87"
      }
    },
    {
      "cell_type": "code",
      "source": [
        "sns.jointplot(data=df, y='course_students_enrolled',x='course_rating',kind='scatter', color='m',height=8) "
      ],
      "metadata": {
        "colab": {
          "base_uri": "https://localhost:8080/",
          "height": 595
        },
        "id": "vlebkip_Rbw1",
        "outputId": "2b711215-eb2e-4115-a5fa-0efc5f42734e"
      },
      "execution_count": null,
      "outputs": [
        {
          "output_type": "execute_result",
          "data": {
            "text/plain": [
              "<seaborn.axisgrid.JointGrid at 0x7ffa059bc810>"
            ]
          },
          "metadata": {},
          "execution_count": 26
        },
        {
          "output_type": "display_data",
          "data": {
            "image/png": "[encoded data removed]",
            "text/plain": [
              "<Figure size 576x576 with 3 Axes>"
            ]
          },
          "metadata": {}
        }
      ]
    },
    {
      "cell_type": "code",
      "source": [
        "sns.jointplot(data=df, y='course_students_enrolled',x='course_rating',kind='reg', color='m',height=8)"
      ],
      "metadata": {
        "colab": {
          "base_uri": "https://localhost:8080/",
          "height": 595
        },
        "id": "S975JlQfSgzM",
        "outputId": "a8a596be-10f0-4b8a-b0f4-b1865c6fba38"
      },
      "execution_count": null,
      "outputs": [
        {
          "output_type": "execute_result",
          "data": {
            "text/plain": [
              "<seaborn.axisgrid.JointGrid at 0x7ffa05252f90>"
            ]
          },
          "metadata": {},
          "execution_count": 27
        },
        {
          "output_type": "display_data",
          "data": {
            "image/png": "[encoded data removed]",
            "text/plain": [
              "<Figure size 576x576 with 3 Axes>"
            ]
          },
          "metadata": {}
        }
      ]
    },
    {
      "cell_type": "code",
      "source": [
        "sns.jointplot(data=df, y='course_students_enrolled',x='course_rating',kind='kde', color='m',height=8)"
      ],
      "metadata": {
        "id": "KnQ5jg7OVu5o",
        "colab": {
          "base_uri": "https://localhost:8080/",
          "height": 595
        },
        "outputId": "fa175332-b7a0-4458-e814-30f1d07e475a"
      },
      "execution_count": null,
      "outputs": [
        {
          "output_type": "execute_result",
          "data": {
            "text/plain": [
              "<seaborn.axisgrid.JointGrid at 0x7ffa059bcf10>"
            ]
          },
          "metadata": {},
          "execution_count": 25
        },
        {
          "output_type": "display_data",
          "data": {
            "image/png": "[encoded data removed]",
            "text/plain": [
              "<Figure size 576x576 with 3 Axes>"
            ]
          },
          "metadata": {}
        }
      ]
    },
    {
      "cell_type": "markdown",
      "source": [
        "# Categorical Columns Analysis\n",
        "## Univariate analysis "
      ],
      "metadata": {
        "id": "O49RfWod60vE"
      }
    },
    {
      "cell_type": "code",
      "source": [
        "df.columns"
      ],
      "metadata": {
        "colab": {
          "base_uri": "https://localhost:8080/"
        },
        "id": "wvjLAd5w0qvl",
        "outputId": "545edf2b-d176-4c9d-d529-c44b204543bc"
      },
      "execution_count": null,
      "outputs": [
        {
          "output_type": "execute_result",
          "data": {
            "text/plain": [
              "Index(['course_title', 'course_organization', 'course_Certificate_type',\n",
              "       'course_rating', 'course_difficulty', 'course_students_enrolled'],\n",
              "      dtype='object')"
            ]
          },
          "metadata": {},
          "execution_count": 34
        }
      ]
    },
    {
      "cell_type": "code",
      "source": [
        "df['course_Certificate_type'].unique()"
      ],
      "metadata": {
        "colab": {
          "base_uri": "https://localhost:8080/"
        },
        "id": "oeWhUzWs1b0M",
        "outputId": "80dd9a87-2215-4bca-9988-8006ff065b1f"
      },
      "execution_count": null,
      "outputs": [
        {
          "output_type": "execute_result",
          "data": {
            "text/plain": [
              "array(['SPECIALIZATION', 'COURSE', 'PROFESSIONAL CERTIFICATE'],\n",
              "      dtype=object)"
            ]
          },
          "metadata": {},
          "execution_count": 35
        }
      ]
    },
    {
      "cell_type": "code",
      "source": [
        "df['course_Certificate_type'].value_counts()"
      ],
      "metadata": {
        "colab": {
          "base_uri": "https://localhost:8080/"
        },
        "id": "8chKd6gKHwtU",
        "outputId": "df694384-1f89-4b49-d9c3-38275cda88d5"
      },
      "execution_count": null,
      "outputs": [
        {
          "output_type": "execute_result",
          "data": {
            "text/plain": [
              "COURSE                      582\n",
              "SPECIALIZATION              297\n",
              "PROFESSIONAL CERTIFICATE     12\n",
              "Name: course_Certificate_type, dtype: int64"
            ]
          },
          "metadata": {},
          "execution_count": 36
        }
      ]
    },
    {
      "cell_type": "code",
      "source": [
        "sns.boxplot(x='course_Certificate_type',y='course_students_enrolled',data=df)"
      ],
      "metadata": {
        "colab": {
          "base_uri": "https://localhost:8080/",
          "height": 593
        },
        "id": "FkorlX5WIP2f",
        "outputId": "dd2825cb-33e2-4deb-970f-21846bf462ea"
      },
      "execution_count": null,
      "outputs": [
        {
          "output_type": "execute_result",
          "data": {
            "text/plain": [
              "<matplotlib.axes._subplots.AxesSubplot at 0x7ff9ff5691d0>"
            ]
          },
          "metadata": {},
          "execution_count": 40
        },
        {
          "output_type": "display_data",
          "data": {
            "image/png": "[encoded data removed]",
            "text/plain": [
              "<Figure size 648x648 with 1 Axes>"
            ]
          },
          "metadata": {}
        }
      ]
    },
    {
      "cell_type": "code",
      "source": [
        "sns.violinplot(x='course_Certificate_type',y='course_students_enrolled',data=df)"
      ],
      "metadata": {
        "colab": {
          "base_uri": "https://localhost:8080/",
          "height": 593
        },
        "id": "LSK8omKfK6SC",
        "outputId": "aaa6451e-e260-42cf-ba56-5165d8bf990a"
      },
      "execution_count": null,
      "outputs": [
        {
          "output_type": "execute_result",
          "data": {
            "text/plain": [
              "<matplotlib.axes._subplots.AxesSubplot at 0x7ff9ff4aaa90>"
            ]
          },
          "metadata": {},
          "execution_count": 41
        },
        {
          "output_type": "display_data",
          "data": {
            "image/png": "[encoded data removed]",
            "text/plain": [
              "<Figure size 648x648 with 1 Axes>"
            ]
          },
          "metadata": {}
        }
      ]
    },
    {
      "cell_type": "code",
      "source": [
        "sns.stripplot(x='course_Certificate_type',y='course_students_enrolled',data=df)"
      ],
      "metadata": {
        "colab": {
          "base_uri": "https://localhost:8080/",
          "height": 593
        },
        "id": "V76LPkCwMMG1",
        "outputId": "defef6d0-4930-4a4d-8e09-b2ce912563d1"
      },
      "execution_count": null,
      "outputs": [
        {
          "output_type": "execute_result",
          "data": {
            "text/plain": [
              "<matplotlib.axes._subplots.AxesSubplot at 0x7ff9ff51b7d0>"
            ]
          },
          "metadata": {},
          "execution_count": 43
        },
        {
          "output_type": "display_data",
          "data": {
            "image/png": "[encoded data removed]",
            "text/plain": [
              "<Figure size 648x648 with 1 Axes>"
            ]
          },
          "metadata": {}
        }
      ]
    },
    {
      "cell_type": "code",
      "source": [
        "sns.barplot(x='course_Certificate_type',y='course_students_enrolled',data=df,estimator=np.sum)"
      ],
      "metadata": {
        "colab": {
          "base_uri": "https://localhost:8080/",
          "height": 593
        },
        "id": "3wZagcnsOmVa",
        "outputId": "e472ec9e-bb3c-4ec4-94e3-4f38dc7de72d"
      },
      "execution_count": null,
      "outputs": [
        {
          "output_type": "execute_result",
          "data": {
            "text/plain": [
              "<matplotlib.axes._subplots.AxesSubplot at 0x7ff9ff358710>"
            ]
          },
          "metadata": {},
          "execution_count": 51
        },
        {
          "output_type": "display_data",
          "data": {
            "image/png": "[encoded data removed]",
            "text/plain": [
              "<Figure size 648x648 with 1 Axes>"
            ]
          },
          "metadata": {}
        }
      ]
    },
    {
      "cell_type": "code",
      "source": [
        "df['course_difficulty'].unique()"
      ],
      "metadata": {
        "colab": {
          "base_uri": "https://localhost:8080/"
        },
        "id": "gWUDDIaxH5Oc",
        "outputId": "637d13a4-b9bd-4b90-e994-3c4b0b5c22f0"
      },
      "execution_count": null,
      "outputs": [
        {
          "output_type": "execute_result",
          "data": {
            "text/plain": [
              "array(['Beginner', 'Intermediate', 'Mixed', 'Advanced'], dtype=object)"
            ]
          },
          "metadata": {},
          "execution_count": 37
        }
      ]
    },
    {
      "cell_type": "code",
      "source": [
        "df['course_difficulty'].value_counts()"
      ],
      "metadata": {
        "colab": {
          "base_uri": "https://localhost:8080/"
        },
        "id": "wg4kbKMeIKbT",
        "outputId": "0f6bb5f4-6984-42d6-b0ae-3455c707ec7e"
      },
      "execution_count": null,
      "outputs": [
        {
          "output_type": "execute_result",
          "data": {
            "text/plain": [
              "Beginner        487\n",
              "Intermediate    198\n",
              "Mixed           187\n",
              "Advanced         19\n",
              "Name: course_difficulty, dtype: int64"
            ]
          },
          "metadata": {},
          "execution_count": 38
        }
      ]
    },
    {
      "cell_type": "code",
      "source": [
        "sns.boxplot(x='course_difficulty',y='course_students_enrolled',data=df)"
      ],
      "metadata": {
        "colab": {
          "base_uri": "https://localhost:8080/",
          "height": 593
        },
        "id": "HzouyFg-jCF-",
        "outputId": "0074610c-f54d-4002-fa5a-5d8d0c04f488"
      },
      "execution_count": null,
      "outputs": [
        {
          "output_type": "execute_result",
          "data": {
            "text/plain": [
              "<matplotlib.axes._subplots.AxesSubplot at 0x7ff9ff060cd0>"
            ]
          },
          "metadata": {},
          "execution_count": 56
        },
        {
          "output_type": "display_data",
          "data": {
            "image/png": "[encoded data removed]",
            "text/plain": [
              "<Figure size 648x648 with 1 Axes>"
            ]
          },
          "metadata": {}
        }
      ]
    },
    {
      "cell_type": "code",
      "source": [
        "sns.violinplot(x='course_difficulty',y='course_students_enrolled',data=df)"
      ],
      "metadata": {
        "colab": {
          "base_uri": "https://localhost:8080/",
          "height": 593
        },
        "id": "YoFfZd0mjITD",
        "outputId": "70e681cd-3a33-47c5-cf00-67b2a6a13f12"
      },
      "execution_count": null,
      "outputs": [
        {
          "output_type": "execute_result",
          "data": {
            "text/plain": [
              "<matplotlib.axes._subplots.AxesSubplot at 0x7ff9ff0a4050>"
            ]
          },
          "metadata": {},
          "execution_count": 57
        },
        {
          "output_type": "display_data",
          "data": {
            "image/png": "[encoded data removed]",
            "text/plain": [
              "<Figure size 648x648 with 1 Axes>"
            ]
          },
          "metadata": {}
        }
      ]
    },
    {
      "cell_type": "code",
      "source": [
        "sns.stripplot(x='course_difficulty',y='course_students_enrolled',data=df)"
      ],
      "metadata": {
        "colab": {
          "base_uri": "https://localhost:8080/",
          "height": 593
        },
        "id": "gcS_SQ3diFNE",
        "outputId": "03f48ec9-3cec-4052-deb7-97d6315193ca"
      },
      "execution_count": null,
      "outputs": [
        {
          "output_type": "execute_result",
          "data": {
            "text/plain": [
              "<matplotlib.axes._subplots.AxesSubplot at 0x7ff9ff0de610>"
            ]
          },
          "metadata": {},
          "execution_count": 55
        },
        {
          "output_type": "display_data",
          "data": {
            "image/png": "[encoded data removed]",
            "text/plain": [
              "<Figure size 648x648 with 1 Axes>"
            ]
          },
          "metadata": {}
        }
      ]
    },
    {
      "cell_type": "code",
      "source": [
        "sns.barplot(x='course_difficulty',y='course_students_enrolled',data=df,estimator=np.sum)"
      ],
      "metadata": {
        "colab": {
          "base_uri": "https://localhost:8080/",
          "height": 593
        },
        "id": "LssDYPI22AvM",
        "outputId": "e3b3d73c-c391-4724-b793-3e31b7310097"
      },
      "execution_count": null,
      "outputs": [
        {
          "output_type": "execute_result",
          "data": {
            "text/plain": [
              "<matplotlib.axes._subplots.AxesSubplot at 0x7ff9fe8aca90>"
            ]
          },
          "metadata": {},
          "execution_count": 79
        },
        {
          "output_type": "display_data",
          "data": {
            "image/png": "[encoded data removed]",
            "text/plain": [
              "<Figure size 648x648 with 1 Axes>"
            ]
          },
          "metadata": {}
        }
      ]
    },
    {
      "cell_type": "code",
      "source": [
        "df['course_rating'].astype(\"object\")"
      ],
      "metadata": {
        "colab": {
          "base_uri": "https://localhost:8080/"
        },
        "id": "yFrfjLsNu9y9",
        "outputId": "4ff8f762-f26f-4069-e0ff-e439819ea1c1"
      },
      "execution_count": null,
      "outputs": [
        {
          "output_type": "execute_result",
          "data": {
            "text/plain": [
              "0      4.7\n",
              "1      4.7\n",
              "2      4.5\n",
              "3      4.7\n",
              "4      4.8\n",
              "      ... \n",
              "886    4.5\n",
              "887    4.8\n",
              "888    4.5\n",
              "889    4.6\n",
              "890    4.7\n",
              "Name: course_rating, Length: 891, dtype: object"
            ]
          },
          "metadata": {},
          "execution_count": 71
        }
      ]
    },
    {
      "cell_type": "code",
      "source": [
        "df.groupby('course_Certificate_type').describe().T"
      ],
      "metadata": {
        "colab": {
          "base_uri": "https://localhost:8080/",
          "height": 572
        },
        "id": "YqPVOpaiMded",
        "outputId": "89e53eb2-93fe-45fa-a0ad-e0be5065b438"
      },
      "execution_count": null,
      "outputs": [
        {
          "output_type": "execute_result",
          "data": {
            "text/html": [
              "<div>\n",
              "<style scoped>\n",
              "    .dataframe tbody tr th:only-of-type {\n",
              "        vertical-align: middle;\n",
              "    }\n",
              "\n",
              "    .dataframe tbody tr th {\n",
              "        vertical-align: top;\n",
              "    }\n",
              "\n",
              "    .dataframe thead th {\n",
              "        text-align: right;\n",
              "    }\n",
              "</style>\n",
              "<table border=\"1\" class=\"dataframe\">\n",
              "  <thead>\n",
              "    <tr style=\"text-align: right;\">\n",
              "      <th></th>\n",
              "      <th>course_Certificate_type</th>\n",
              "      <th>COURSE</th>\n",
              "      <th>PROFESSIONAL CERTIFICATE</th>\n",
              "      <th>SPECIALIZATION</th>\n",
              "    </tr>\n",
              "  </thead>\n",
              "  <tbody>\n",
              "    <tr>\n",
              "      <th rowspan=\"8\" valign=\"top\">course_rating</th>\n",
              "      <th>count</th>\n",
              "      <td>5.820000e+02</td>\n",
              "      <td>12.000000</td>\n",
              "      <td>2.970000e+02</td>\n",
              "    </tr>\n",
              "    <tr>\n",
              "      <th>mean</th>\n",
              "      <td>4.707045e+00</td>\n",
              "      <td>4.700000</td>\n",
              "      <td>4.618182e+00</td>\n",
              "    </tr>\n",
              "    <tr>\n",
              "      <th>std</th>\n",
              "      <td>1.516468e-01</td>\n",
              "      <td>0.120605</td>\n",
              "      <td>1.678744e-01</td>\n",
              "    </tr>\n",
              "    <tr>\n",
              "      <th>min</th>\n",
              "      <td>3.300000e+00</td>\n",
              "      <td>4.600000</td>\n",
              "      <td>3.700000e+00</td>\n",
              "    </tr>\n",
              "    <tr>\n",
              "      <th>25%</th>\n",
              "      <td>4.600000e+00</td>\n",
              "      <td>4.600000</td>\n",
              "      <td>4.500000e+00</td>\n",
              "    </tr>\n",
              "    <tr>\n",
              "      <th>50%</th>\n",
              "      <td>4.700000e+00</td>\n",
              "      <td>4.650000</td>\n",
              "      <td>4.600000e+00</td>\n",
              "    </tr>\n",
              "    <tr>\n",
              "      <th>75%</th>\n",
              "      <td>4.800000e+00</td>\n",
              "      <td>4.800000</td>\n",
              "      <td>4.700000e+00</td>\n",
              "    </tr>\n",
              "    <tr>\n",
              "      <th>max</th>\n",
              "      <td>5.000000e+00</td>\n",
              "      <td>4.900000</td>\n",
              "      <td>5.000000e+00</td>\n",
              "    </tr>\n",
              "    <tr>\n",
              "      <th rowspan=\"8\" valign=\"top\">course_students_enrolled</th>\n",
              "      <th>count</th>\n",
              "      <td>5.820000e+02</td>\n",
              "      <td>12.000000</td>\n",
              "      <td>2.970000e+02</td>\n",
              "    </tr>\n",
              "    <tr>\n",
              "      <th>mean</th>\n",
              "      <td>8.785447e+04</td>\n",
              "      <td>190700.000000</td>\n",
              "      <td>9.179192e+04</td>\n",
              "    </tr>\n",
              "    <tr>\n",
              "      <th>std</th>\n",
              "      <td>1.954303e+05</td>\n",
              "      <td>155233.349275</td>\n",
              "      <td>1.524522e+05</td>\n",
              "    </tr>\n",
              "    <tr>\n",
              "      <th>min</th>\n",
              "      <td>1.500000e+03</td>\n",
              "      <td>2600.000000</td>\n",
              "      <td>1.600000e+03</td>\n",
              "    </tr>\n",
              "    <tr>\n",
              "      <th>25%</th>\n",
              "      <td>1.900000e+04</td>\n",
              "      <td>80750.000000</td>\n",
              "      <td>1.400000e+04</td>\n",
              "    </tr>\n",
              "    <tr>\n",
              "      <th>50%</th>\n",
              "      <td>4.300000e+04</td>\n",
              "      <td>145000.000000</td>\n",
              "      <td>3.800000e+04</td>\n",
              "    </tr>\n",
              "    <tr>\n",
              "      <th>75%</th>\n",
              "      <td>9.100000e+04</td>\n",
              "      <td>320000.000000</td>\n",
              "      <td>1.000000e+05</td>\n",
              "    </tr>\n",
              "    <tr>\n",
              "      <th>max</th>\n",
              "      <td>3.200000e+06</td>\n",
              "      <td>480000.000000</td>\n",
              "      <td>1.500000e+06</td>\n",
              "    </tr>\n",
              "  </tbody>\n",
              "</table>\n",
              "</div>"
            ],
            "text/plain": [
              "course_Certificate_type               COURSE  ...  SPECIALIZATION\n",
              "course_rating            count  5.820000e+02  ...    2.970000e+02\n",
              "                         mean   4.707045e+00  ...    4.618182e+00\n",
              "                         std    1.516468e-01  ...    1.678744e-01\n",
              "                         min    3.300000e+00  ...    3.700000e+00\n",
              "                         25%    4.600000e+00  ...    4.500000e+00\n",
              "                         50%    4.700000e+00  ...    4.600000e+00\n",
              "                         75%    4.800000e+00  ...    4.700000e+00\n",
              "                         max    5.000000e+00  ...    5.000000e+00\n",
              "course_students_enrolled count  5.820000e+02  ...    2.970000e+02\n",
              "                         mean   8.785447e+04  ...    9.179192e+04\n",
              "                         std    1.954303e+05  ...    1.524522e+05\n",
              "                         min    1.500000e+03  ...    1.600000e+03\n",
              "                         25%    1.900000e+04  ...    1.400000e+04\n",
              "                         50%    4.300000e+04  ...    3.800000e+04\n",
              "                         75%    9.100000e+04  ...    1.000000e+05\n",
              "                         max    3.200000e+06  ...    1.500000e+06\n",
              "\n",
              "[16 rows x 3 columns]"
            ]
          },
          "metadata": {},
          "execution_count": 72
        }
      ]
    },
    {
      "cell_type": "code",
      "source": [
        "pd.pivot_table(df, index=['course_Certificate_type'], values='course_students_enrolled')"
      ],
      "metadata": {
        "colab": {
          "base_uri": "https://localhost:8080/",
          "height": 181
        },
        "id": "Lu7iy-2kyTvx",
        "outputId": "b6d93ce9-a8a8-4c6e-a1d5-22ef1c55bad7"
      },
      "execution_count": null,
      "outputs": [
        {
          "output_type": "execute_result",
          "data": {
            "text/html": [
              "<div>\n",
              "<style scoped>\n",
              "    .dataframe tbody tr th:only-of-type {\n",
              "        vertical-align: middle;\n",
              "    }\n",
              "\n",
              "    .dataframe tbody tr th {\n",
              "        vertical-align: top;\n",
              "    }\n",
              "\n",
              "    .dataframe thead th {\n",
              "        text-align: right;\n",
              "    }\n",
              "</style>\n",
              "<table border=\"1\" class=\"dataframe\">\n",
              "  <thead>\n",
              "    <tr style=\"text-align: right;\">\n",
              "      <th></th>\n",
              "      <th>course_students_enrolled</th>\n",
              "    </tr>\n",
              "    <tr>\n",
              "      <th>course_Certificate_type</th>\n",
              "      <th></th>\n",
              "    </tr>\n",
              "  </thead>\n",
              "  <tbody>\n",
              "    <tr>\n",
              "      <th>COURSE</th>\n",
              "      <td>87854.467354</td>\n",
              "    </tr>\n",
              "    <tr>\n",
              "      <th>PROFESSIONAL CERTIFICATE</th>\n",
              "      <td>190700.000000</td>\n",
              "    </tr>\n",
              "    <tr>\n",
              "      <th>SPECIALIZATION</th>\n",
              "      <td>91791.919192</td>\n",
              "    </tr>\n",
              "  </tbody>\n",
              "</table>\n",
              "</div>"
            ],
            "text/plain": [
              "                          course_students_enrolled\n",
              "course_Certificate_type                           \n",
              "COURSE                                87854.467354\n",
              "PROFESSIONAL CERTIFICATE             190700.000000\n",
              "SPECIALIZATION                        91791.919192"
            ]
          },
          "metadata": {},
          "execution_count": 76
        }
      ]
    },
    {
      "cell_type": "code",
      "source": [
        "pd.pivot_table(df, index=['course_difficulty'], values='course_students_enrolled')"
      ],
      "metadata": {
        "colab": {
          "base_uri": "https://localhost:8080/",
          "height": 213
        },
        "id": "I2qAdHpPx-Gq",
        "outputId": "03bc9895-f212-446d-ca09-763271cc0fc6"
      },
      "execution_count": null,
      "outputs": [
        {
          "output_type": "execute_result",
          "data": {
            "text/html": [
              "<div>\n",
              "<style scoped>\n",
              "    .dataframe tbody tr th:only-of-type {\n",
              "        vertical-align: middle;\n",
              "    }\n",
              "\n",
              "    .dataframe tbody tr th {\n",
              "        vertical-align: top;\n",
              "    }\n",
              "\n",
              "    .dataframe thead th {\n",
              "        text-align: right;\n",
              "    }\n",
              "</style>\n",
              "<table border=\"1\" class=\"dataframe\">\n",
              "  <thead>\n",
              "    <tr style=\"text-align: right;\">\n",
              "      <th></th>\n",
              "      <th>course_students_enrolled</th>\n",
              "    </tr>\n",
              "    <tr>\n",
              "      <th>course_difficulty</th>\n",
              "      <th></th>\n",
              "    </tr>\n",
              "  </thead>\n",
              "  <tbody>\n",
              "    <tr>\n",
              "      <th>Advanced</th>\n",
              "      <td>66547.368421</td>\n",
              "    </tr>\n",
              "    <tr>\n",
              "      <th>Beginner</th>\n",
              "      <td>81974.948665</td>\n",
              "    </tr>\n",
              "    <tr>\n",
              "      <th>Intermediate</th>\n",
              "      <td>73264.141414</td>\n",
              "    </tr>\n",
              "    <tr>\n",
              "      <th>Mixed</th>\n",
              "      <td>133633.155080</td>\n",
              "    </tr>\n",
              "  </tbody>\n",
              "</table>\n",
              "</div>"
            ],
            "text/plain": [
              "                   course_students_enrolled\n",
              "course_difficulty                          \n",
              "Advanced                       66547.368421\n",
              "Beginner                       81974.948665\n",
              "Intermediate                   73264.141414\n",
              "Mixed                         133633.155080"
            ]
          },
          "metadata": {},
          "execution_count": 77
        }
      ]
    },
    {
      "cell_type": "code",
      "source": [
        "pd.pivot_table(df, index=['course_rating'], values='course_students_enrolled')"
      ],
      "metadata": {
        "colab": {
          "base_uri": "https://localhost:8080/",
          "height": 540
        },
        "id": "K5HnQlkhykU1",
        "outputId": "c241b39b-f953-40e3-a347-fada910933d6"
      },
      "execution_count": null,
      "outputs": [
        {
          "output_type": "execute_result",
          "data": {
            "text/html": [
              "<div>\n",
              "<style scoped>\n",
              "    .dataframe tbody tr th:only-of-type {\n",
              "        vertical-align: middle;\n",
              "    }\n",
              "\n",
              "    .dataframe tbody tr th {\n",
              "        vertical-align: top;\n",
              "    }\n",
              "\n",
              "    .dataframe thead th {\n",
              "        text-align: right;\n",
              "    }\n",
              "</style>\n",
              "<table border=\"1\" class=\"dataframe\">\n",
              "  <thead>\n",
              "    <tr style=\"text-align: right;\">\n",
              "      <th></th>\n",
              "      <th>course_students_enrolled</th>\n",
              "    </tr>\n",
              "    <tr>\n",
              "      <th>course_rating</th>\n",
              "      <th></th>\n",
              "    </tr>\n",
              "  </thead>\n",
              "  <tbody>\n",
              "    <tr>\n",
              "      <th>3.3</th>\n",
              "      <td>140000.000000</td>\n",
              "    </tr>\n",
              "    <tr>\n",
              "      <th>3.7</th>\n",
              "      <td>29000.000000</td>\n",
              "    </tr>\n",
              "    <tr>\n",
              "      <th>3.9</th>\n",
              "      <td>45500.000000</td>\n",
              "    </tr>\n",
              "    <tr>\n",
              "      <th>4.0</th>\n",
              "      <td>23000.000000</td>\n",
              "    </tr>\n",
              "    <tr>\n",
              "      <th>4.1</th>\n",
              "      <td>34000.000000</td>\n",
              "    </tr>\n",
              "    <tr>\n",
              "      <th>4.2</th>\n",
              "      <td>63720.000000</td>\n",
              "    </tr>\n",
              "    <tr>\n",
              "      <th>4.3</th>\n",
              "      <td>41600.000000</td>\n",
              "    </tr>\n",
              "    <tr>\n",
              "      <th>4.4</th>\n",
              "      <td>81841.176471</td>\n",
              "    </tr>\n",
              "    <tr>\n",
              "      <th>4.5</th>\n",
              "      <td>74525.000000</td>\n",
              "    </tr>\n",
              "    <tr>\n",
              "      <th>4.6</th>\n",
              "      <td>93947.619048</td>\n",
              "    </tr>\n",
              "    <tr>\n",
              "      <th>4.7</th>\n",
              "      <td>81971.713147</td>\n",
              "    </tr>\n",
              "    <tr>\n",
              "      <th>4.8</th>\n",
              "      <td>87248.437500</td>\n",
              "    </tr>\n",
              "    <tr>\n",
              "      <th>4.9</th>\n",
              "      <td>171166.176471</td>\n",
              "    </tr>\n",
              "    <tr>\n",
              "      <th>5.0</th>\n",
              "      <td>1550.000000</td>\n",
              "    </tr>\n",
              "  </tbody>\n",
              "</table>\n",
              "</div>"
            ],
            "text/plain": [
              "               course_students_enrolled\n",
              "course_rating                          \n",
              "3.3                       140000.000000\n",
              "3.7                        29000.000000\n",
              "3.9                        45500.000000\n",
              "4.0                        23000.000000\n",
              "4.1                        34000.000000\n",
              "4.2                        63720.000000\n",
              "4.3                        41600.000000\n",
              "4.4                        81841.176471\n",
              "4.5                        74525.000000\n",
              "4.6                        93947.619048\n",
              "4.7                        81971.713147\n",
              "4.8                        87248.437500\n",
              "4.9                       171166.176471\n",
              "5.0                         1550.000000"
            ]
          },
          "metadata": {},
          "execution_count": 78
        }
      ]
    },
    {
      "cell_type": "code",
      "source": [
        "pd.pivot_table(df, index=['course_Certificate_type'], columns='course_difficulty', values='course_students_enrolled')"
      ],
      "metadata": {
        "colab": {
          "base_uri": "https://localhost:8080/",
          "height": 181
        },
        "id": "wOyy_azKNkKy",
        "outputId": "2573a098-4238-4f5c-f529-3d7375c68235"
      },
      "execution_count": null,
      "outputs": [
        {
          "output_type": "execute_result",
          "data": {
            "text/html": [
              "<div>\n",
              "<style scoped>\n",
              "    .dataframe tbody tr th:only-of-type {\n",
              "        vertical-align: middle;\n",
              "    }\n",
              "\n",
              "    .dataframe tbody tr th {\n",
              "        vertical-align: top;\n",
              "    }\n",
              "\n",
              "    .dataframe thead th {\n",
              "        text-align: right;\n",
              "    }\n",
              "</style>\n",
              "<table border=\"1\" class=\"dataframe\">\n",
              "  <thead>\n",
              "    <tr style=\"text-align: right;\">\n",
              "      <th>course_difficulty</th>\n",
              "      <th>Advanced</th>\n",
              "      <th>Beginner</th>\n",
              "      <th>Intermediate</th>\n",
              "      <th>Mixed</th>\n",
              "    </tr>\n",
              "    <tr>\n",
              "      <th>course_Certificate_type</th>\n",
              "      <th></th>\n",
              "      <th></th>\n",
              "      <th></th>\n",
              "      <th></th>\n",
              "    </tr>\n",
              "  </thead>\n",
              "  <tbody>\n",
              "    <tr>\n",
              "      <th>COURSE</th>\n",
              "      <td>45188.888889</td>\n",
              "      <td>68835.106383</td>\n",
              "      <td>60804.807692</td>\n",
              "      <td>133633.15508</td>\n",
              "    </tr>\n",
              "    <tr>\n",
              "      <th>PROFESSIONAL CERTIFICATE</th>\n",
              "      <td>NaN</td>\n",
              "      <td>190933.333333</td>\n",
              "      <td>190000.000000</td>\n",
              "      <td>NaN</td>\n",
              "    </tr>\n",
              "    <tr>\n",
              "      <th>SPECIALIZATION</th>\n",
              "      <td>85770.000000</td>\n",
              "      <td>95877.040816</td>\n",
              "      <td>83654.945055</td>\n",
              "      <td>NaN</td>\n",
              "    </tr>\n",
              "  </tbody>\n",
              "</table>\n",
              "</div>"
            ],
            "text/plain": [
              "course_difficulty             Advanced  ...         Mixed\n",
              "course_Certificate_type                 ...              \n",
              "COURSE                    45188.888889  ...  133633.15508\n",
              "PROFESSIONAL CERTIFICATE           NaN  ...           NaN\n",
              "SPECIALIZATION            85770.000000  ...           NaN\n",
              "\n",
              "[3 rows x 4 columns]"
            ]
          },
          "metadata": {},
          "execution_count": 45
        }
      ]
    },
    {
      "cell_type": "code",
      "source": [
        "pd.pivot_table(df, columns='course_Certificate_type',index=['course_rating'], values='course_students_enrolled')"
      ],
      "metadata": {
        "colab": {
          "base_uri": "https://localhost:8080/",
          "height": 540
        },
        "id": "2h9EEykP3yzT",
        "outputId": "f94b268b-cfc5-482f-ce05-9f5ca7ce5f3a"
      },
      "execution_count": null,
      "outputs": [
        {
          "output_type": "execute_result",
          "data": {
            "text/html": [
              "<div>\n",
              "<style scoped>\n",
              "    .dataframe tbody tr th:only-of-type {\n",
              "        vertical-align: middle;\n",
              "    }\n",
              "\n",
              "    .dataframe tbody tr th {\n",
              "        vertical-align: top;\n",
              "    }\n",
              "\n",
              "    .dataframe thead th {\n",
              "        text-align: right;\n",
              "    }\n",
              "</style>\n",
              "<table border=\"1\" class=\"dataframe\">\n",
              "  <thead>\n",
              "    <tr style=\"text-align: right;\">\n",
              "      <th>course_Certificate_type</th>\n",
              "      <th>COURSE</th>\n",
              "      <th>PROFESSIONAL CERTIFICATE</th>\n",
              "      <th>SPECIALIZATION</th>\n",
              "    </tr>\n",
              "    <tr>\n",
              "      <th>course_rating</th>\n",
              "      <th></th>\n",
              "      <th></th>\n",
              "      <th></th>\n",
              "    </tr>\n",
              "  </thead>\n",
              "  <tbody>\n",
              "    <tr>\n",
              "      <th>3.3</th>\n",
              "      <td>140000.000000</td>\n",
              "      <td>NaN</td>\n",
              "      <td>NaN</td>\n",
              "    </tr>\n",
              "    <tr>\n",
              "      <th>3.7</th>\n",
              "      <td>NaN</td>\n",
              "      <td>NaN</td>\n",
              "      <td>29000.000000</td>\n",
              "    </tr>\n",
              "    <tr>\n",
              "      <th>3.9</th>\n",
              "      <td>NaN</td>\n",
              "      <td>NaN</td>\n",
              "      <td>45500.000000</td>\n",
              "    </tr>\n",
              "    <tr>\n",
              "      <th>4.0</th>\n",
              "      <td>23000.000000</td>\n",
              "      <td>NaN</td>\n",
              "      <td>NaN</td>\n",
              "    </tr>\n",
              "    <tr>\n",
              "      <th>4.1</th>\n",
              "      <td>NaN</td>\n",
              "      <td>NaN</td>\n",
              "      <td>34000.000000</td>\n",
              "    </tr>\n",
              "    <tr>\n",
              "      <th>4.2</th>\n",
              "      <td>97566.666667</td>\n",
              "      <td>NaN</td>\n",
              "      <td>12950.000000</td>\n",
              "    </tr>\n",
              "    <tr>\n",
              "      <th>4.3</th>\n",
              "      <td>42800.000000</td>\n",
              "      <td>NaN</td>\n",
              "      <td>41000.000000</td>\n",
              "    </tr>\n",
              "    <tr>\n",
              "      <th>4.4</th>\n",
              "      <td>43623.076923</td>\n",
              "      <td>NaN</td>\n",
              "      <td>105500.000000</td>\n",
              "    </tr>\n",
              "    <tr>\n",
              "      <th>4.5</th>\n",
              "      <td>57386.842105</td>\n",
              "      <td>NaN</td>\n",
              "      <td>90030.952381</td>\n",
              "    </tr>\n",
              "    <tr>\n",
              "      <th>4.6</th>\n",
              "      <td>86218.478261</td>\n",
              "      <td>167766.666667</td>\n",
              "      <td>97778.571429</td>\n",
              "    </tr>\n",
              "    <tr>\n",
              "      <th>4.7</th>\n",
              "      <td>71235.185185</td>\n",
              "      <td>201500.000000</td>\n",
              "      <td>99216.091954</td>\n",
              "    </tr>\n",
              "    <tr>\n",
              "      <th>4.8</th>\n",
              "      <td>84171.144279</td>\n",
              "      <td>360000.000000</td>\n",
              "      <td>88626.415094</td>\n",
              "    </tr>\n",
              "    <tr>\n",
              "      <th>4.9</th>\n",
              "      <td>180426.229508</td>\n",
              "      <td>79400.000000</td>\n",
              "      <td>94900.000000</td>\n",
              "    </tr>\n",
              "    <tr>\n",
              "      <th>5.0</th>\n",
              "      <td>1500.000000</td>\n",
              "      <td>NaN</td>\n",
              "      <td>1600.000000</td>\n",
              "    </tr>\n",
              "  </tbody>\n",
              "</table>\n",
              "</div>"
            ],
            "text/plain": [
              "course_Certificate_type         COURSE  ...  SPECIALIZATION\n",
              "course_rating                           ...                \n",
              "3.3                      140000.000000  ...             NaN\n",
              "3.7                                NaN  ...    29000.000000\n",
              "3.9                                NaN  ...    45500.000000\n",
              "4.0                       23000.000000  ...             NaN\n",
              "4.1                                NaN  ...    34000.000000\n",
              "4.2                       97566.666667  ...    12950.000000\n",
              "4.3                       42800.000000  ...    41000.000000\n",
              "4.4                       43623.076923  ...   105500.000000\n",
              "4.5                       57386.842105  ...    90030.952381\n",
              "4.6                       86218.478261  ...    97778.571429\n",
              "4.7                       71235.185185  ...    99216.091954\n",
              "4.8                       84171.144279  ...    88626.415094\n",
              "4.9                      180426.229508  ...    94900.000000\n",
              "5.0                        1500.000000  ...     1600.000000\n",
              "\n",
              "[14 rows x 3 columns]"
            ]
          },
          "metadata": {},
          "execution_count": 83
        }
      ]
    },
    {
      "cell_type": "code",
      "source": [
        "pd.pivot_table(df, columns='course_difficulty',index=['course_rating'], values='course_students_enrolled')"
      ],
      "metadata": {
        "colab": {
          "base_uri": "https://localhost:8080/",
          "height": 540
        },
        "id": "NYOqdTAg4Q3v",
        "outputId": "de01e5ba-c903-4efb-8e22-a50a4868efde"
      },
      "execution_count": null,
      "outputs": [
        {
          "output_type": "execute_result",
          "data": {
            "text/html": [
              "<div>\n",
              "<style scoped>\n",
              "    .dataframe tbody tr th:only-of-type {\n",
              "        vertical-align: middle;\n",
              "    }\n",
              "\n",
              "    .dataframe tbody tr th {\n",
              "        vertical-align: top;\n",
              "    }\n",
              "\n",
              "    .dataframe thead th {\n",
              "        text-align: right;\n",
              "    }\n",
              "</style>\n",
              "<table border=\"1\" class=\"dataframe\">\n",
              "  <thead>\n",
              "    <tr style=\"text-align: right;\">\n",
              "      <th>course_difficulty</th>\n",
              "      <th>Advanced</th>\n",
              "      <th>Beginner</th>\n",
              "      <th>Intermediate</th>\n",
              "      <th>Mixed</th>\n",
              "    </tr>\n",
              "    <tr>\n",
              "      <th>course_rating</th>\n",
              "      <th></th>\n",
              "      <th></th>\n",
              "      <th></th>\n",
              "      <th></th>\n",
              "    </tr>\n",
              "  </thead>\n",
              "  <tbody>\n",
              "    <tr>\n",
              "      <th>3.3</th>\n",
              "      <td>NaN</td>\n",
              "      <td>NaN</td>\n",
              "      <td>NaN</td>\n",
              "      <td>140000.000000</td>\n",
              "    </tr>\n",
              "    <tr>\n",
              "      <th>3.7</th>\n",
              "      <td>NaN</td>\n",
              "      <td>NaN</td>\n",
              "      <td>29000.000000</td>\n",
              "      <td>NaN</td>\n",
              "    </tr>\n",
              "    <tr>\n",
              "      <th>3.9</th>\n",
              "      <td>NaN</td>\n",
              "      <td>NaN</td>\n",
              "      <td>45500.000000</td>\n",
              "      <td>NaN</td>\n",
              "    </tr>\n",
              "    <tr>\n",
              "      <th>4.0</th>\n",
              "      <td>NaN</td>\n",
              "      <td>NaN</td>\n",
              "      <td>23000.000000</td>\n",
              "      <td>NaN</td>\n",
              "    </tr>\n",
              "    <tr>\n",
              "      <th>4.1</th>\n",
              "      <td>NaN</td>\n",
              "      <td>34000.000000</td>\n",
              "      <td>NaN</td>\n",
              "      <td>NaN</td>\n",
              "    </tr>\n",
              "    <tr>\n",
              "      <th>4.2</th>\n",
              "      <td>6200.0</td>\n",
              "      <td>57150.000000</td>\n",
              "      <td>17200.000000</td>\n",
              "      <td>122666.666667</td>\n",
              "    </tr>\n",
              "    <tr>\n",
              "      <th>4.3</th>\n",
              "      <td>60000.0</td>\n",
              "      <td>35200.000000</td>\n",
              "      <td>26500.000000</td>\n",
              "      <td>79500.000000</td>\n",
              "    </tr>\n",
              "    <tr>\n",
              "      <th>4.4</th>\n",
              "      <td>161750.0</td>\n",
              "      <td>98762.500000</td>\n",
              "      <td>57069.230769</td>\n",
              "      <td>45666.666667</td>\n",
              "    </tr>\n",
              "    <tr>\n",
              "      <th>4.5</th>\n",
              "      <td>78400.0</td>\n",
              "      <td>75917.500000</td>\n",
              "      <td>74452.000000</td>\n",
              "      <td>67200.000000</td>\n",
              "    </tr>\n",
              "    <tr>\n",
              "      <th>4.6</th>\n",
              "      <td>NaN</td>\n",
              "      <td>96729.906542</td>\n",
              "      <td>71868.750000</td>\n",
              "      <td>108044.827586</td>\n",
              "    </tr>\n",
              "    <tr>\n",
              "      <th>4.7</th>\n",
              "      <td>33540.0</td>\n",
              "      <td>76919.858156</td>\n",
              "      <td>86231.666667</td>\n",
              "      <td>97502.222222</td>\n",
              "    </tr>\n",
              "    <tr>\n",
              "      <th>4.8</th>\n",
              "      <td>36250.0</td>\n",
              "      <td>79218.604651</td>\n",
              "      <td>65463.043478</td>\n",
              "      <td>116364.935065</td>\n",
              "    </tr>\n",
              "    <tr>\n",
              "      <th>4.9</th>\n",
              "      <td>170000.0</td>\n",
              "      <td>86152.631579</td>\n",
              "      <td>96925.000000</td>\n",
              "      <td>413670.588235</td>\n",
              "    </tr>\n",
              "    <tr>\n",
              "      <th>5.0</th>\n",
              "      <td>NaN</td>\n",
              "      <td>1500.000000</td>\n",
              "      <td>1600.000000</td>\n",
              "      <td>NaN</td>\n",
              "    </tr>\n",
              "  </tbody>\n",
              "</table>\n",
              "</div>"
            ],
            "text/plain": [
              "course_difficulty  Advanced      Beginner  Intermediate          Mixed\n",
              "course_rating                                                         \n",
              "3.3                     NaN           NaN           NaN  140000.000000\n",
              "3.7                     NaN           NaN  29000.000000            NaN\n",
              "3.9                     NaN           NaN  45500.000000            NaN\n",
              "4.0                     NaN           NaN  23000.000000            NaN\n",
              "4.1                     NaN  34000.000000           NaN            NaN\n",
              "4.2                  6200.0  57150.000000  17200.000000  122666.666667\n",
              "4.3                 60000.0  35200.000000  26500.000000   79500.000000\n",
              "4.4                161750.0  98762.500000  57069.230769   45666.666667\n",
              "4.5                 78400.0  75917.500000  74452.000000   67200.000000\n",
              "4.6                     NaN  96729.906542  71868.750000  108044.827586\n",
              "4.7                 33540.0  76919.858156  86231.666667   97502.222222\n",
              "4.8                 36250.0  79218.604651  65463.043478  116364.935065\n",
              "4.9                170000.0  86152.631579  96925.000000  413670.588235\n",
              "5.0                     NaN   1500.000000   1600.000000            NaN"
            ]
          },
          "metadata": {},
          "execution_count": 84
        }
      ]
    },
    {
      "cell_type": "code",
      "source": [
        "sns.catplot(x='course_difficulty',y='course_students_enrolled',hue='course_Certificate_type',data=df,height=6, aspect=1.3, kind=\"bar\",  estimator=np.sum)"
      ],
      "metadata": {
        "colab": {
          "base_uri": "https://localhost:8080/",
          "height": 451
        },
        "id": "kcFlKNRzfLpF",
        "outputId": "3a6d5f7a-18e3-40b6-dcb5-b6303b50b641"
      },
      "execution_count": null,
      "outputs": [
        {
          "output_type": "execute_result",
          "data": {
            "text/plain": [
              "<seaborn.axisgrid.FacetGrid at 0x7ff9ff2f6a10>"
            ]
          },
          "metadata": {},
          "execution_count": 52
        },
        {
          "output_type": "display_data",
          "data": {
            "image/png": "[encoded data removed]",
            "text/plain": [
              "<Figure size 796.37x432 with 1 Axes>"
            ]
          },
          "metadata": {}
        }
      ]
    },
    {
      "cell_type": "code",
      "source": [
        "sns.countplot(data=df,x = 'course_rating',hue= 'course_difficulty')"
      ],
      "metadata": {
        "colab": {
          "base_uri": "https://localhost:8080/",
          "height": 580
        },
        "id": "LhHuXPbjfLmh",
        "outputId": "aab4a9c5-80d1-4edf-fa83-d5ccc4ddb1b5"
      },
      "execution_count": null,
      "outputs": [
        {
          "output_type": "execute_result",
          "data": {
            "text/plain": [
              "<matplotlib.axes._subplots.AxesSubplot at 0x7ff9ff206310>"
            ]
          },
          "metadata": {},
          "execution_count": 54
        },
        {
          "output_type": "display_data",
          "data": {
            "image/png": "[encoded data removed]",
            "text/plain": [
              "<Figure size 648x648 with 1 Axes>"
            ]
          },
          "metadata": {}
        }
      ]
    },
    {
      "cell_type": "code",
      "source": [
        "sns.countplot(data=df,x = 'course_rating',hue= 'course_Certificate_type')"
      ],
      "metadata": {
        "colab": {
          "base_uri": "https://localhost:8080/",
          "height": 580
        },
        "id": "Pi8SkuT4fLYt",
        "outputId": "1ae4ca00-0b6a-425b-ffef-e63b7d68d140"
      },
      "execution_count": null,
      "outputs": [
        {
          "output_type": "execute_result",
          "data": {
            "text/plain": [
              "<matplotlib.axes._subplots.AxesSubplot at 0x7ff9fe842f10>"
            ]
          },
          "metadata": {},
          "execution_count": 81
        },
        {
          "output_type": "display_data",
          "data": {
            "image/png": "[encoded data removed]",
            "text/plain": [
              "<Figure size 648x648 with 1 Axes>"
            ]
          },
          "metadata": {}
        }
      ]
    },
    {
      "cell_type": "code",
      "source": [
        ""
      ],
      "metadata": {
        "id": "ZWvuWY-jfLS3"
      },
      "execution_count": null,
      "outputs": []
    },
    {
      "cell_type": "code",
      "source": [
        ""
      ],
      "metadata": {
        "id": "tyCQssOhfKhV"
      },
      "execution_count": null,
      "outputs": []
    },
    {
      "cell_type": "code",
      "source": [
        "df['course_title'].unique()"
      ],
      "metadata": {
        "colab": {
          "base_uri": "https://localhost:8080/"
        },
        "id": "6YUM5rFpjd5_",
        "outputId": "50d99ef5-0622-4c9e-9428-9fedf209487f"
      },
      "execution_count": null,
      "outputs": [
        {
          "output_type": "execute_result",
          "data": {
            "text/plain": [
              "array(['(ISC)² Systems Security Certified Practitioner (SSCP)',\n",
              "       'A Crash Course in Causality:  Inferring Causal Effects from Observational Data',\n",
              "       'A Crash Course in Data Science', \"A Law Student's Toolkit\",\n",
              "       'A Life of Happiness and Fulfillment',\n",
              "       'ADHD: Everyday Strategies for Elementary Students',\n",
              "       'AI For Everyone', 'AI For Medical Treatment',\n",
              "       'AI Foundations for Everyone', 'AI for Medical Diagnosis',\n",
              "       'AI for Medical Prognosis', 'AI for Medicine', 'AWS Fundamentals',\n",
              "       'AWS Fundamentals: Addressing Security Risk',\n",
              "       'AWS Fundamentals: Building Serverless Applications',\n",
              "       'AWS Fundamentals: Going Cloud-Native',\n",
              "       'AWS Fundamentals: Migrating to the Cloud',\n",
              "       'Aboriginal Worldviews and Education', 'Academic English: Writing',\n",
              "       'Accelerated Computer Science Fundamentals', 'Access Controls',\n",
              "       'Accounting Analytics', 'Accounting for Decision Making',\n",
              "       'Achieving Personal and Professional Success',\n",
              "       'Actualización en el manejo del paciente con diabetes mellitus tipo 2',\n",
              "       'Addiction Treatment: Clinical Skills for Healthcare Providers',\n",
              "       'Advanced Business Analytics', 'Advanced Data Science with IBM',\n",
              "       'Advanced Machine Learning',\n",
              "       'Advanced Machine Learning with TensorFlow on Google Cloud Platform',\n",
              "       'Advanced Valuation and Strategy - M&A, Private Equity, and Venture Capital',\n",
              "       'Advertising and Society', 'Age of Cathedrals',\n",
              "       'Agile Development', 'Agile Meets Design Thinking',\n",
              "       'Agile with Atlassian Jira',\n",
              "       'Agile и Scrum в работе над проектами и продуктами',\n",
              "       'Algorithmic Toolbox', 'Algorithms',\n",
              "       'Algorithms for Battery Management Systems',\n",
              "       'American Contract Law I', 'An Introduction to American Law',\n",
              "       'An Introduction to Consumer Neuroscience & Neuromarketing',\n",
              "       'An Introduction to Programming the Internet of Things (IOT)',\n",
              "       'Analysing: Numeric and digital literacies', 'Anatomy',\n",
              "       'Anatomy of the Chest, Abdomen, and Pelvis',\n",
              "       'Anatomy: Musculoskeletal and Integumentary Systems',\n",
              "       'Ancient Philosophy: Aristotle and His Successors',\n",
              "       'Android App Development', 'Animal Behaviour and Welfare',\n",
              "       'Antibiotic Stewardship',\n",
              "       'Anticorrupción: Introducción a conceptos y perspectiva práctica',\n",
              "       'Antimicrobial resistance - theory and methods',\n",
              "       'Applied Data Science', 'Applied Data Science Capstone',\n",
              "       'Applied Data Science with Python',\n",
              "       'Applied Machine Learning in Python',\n",
              "       'Applied Plotting, Charting & Data Representation in Python',\n",
              "       'Aprende a programar con Python', 'Aprender',\n",
              "       'Aprendiendo a aprender: Poderosas herramientas mentales con las que podrás dominar temas difíciles (Learning How to Learn)',\n",
              "       'Architecting with Google Cloud Platform 日本語版',\n",
              "       'Architecting with Google Compute Engine',\n",
              "       'Architecting with Google Kubernetes Engine 日本語版',\n",
              "       'Arizona State University TESOL',\n",
              "       'Art & Activity: Interactive Strategies for Engaging with Art',\n",
              "       'Art & Ideas: Teaching with Themes', 'Arts and Culture Strategy',\n",
              "       'Arts and Heritage Management',\n",
              "       'Aspectos básicos de la planificación y la gestión de proyectos',\n",
              "       'Astrobiology and the Search for Extraterrestrial Life',\n",
              "       'Atención Primaria en Salud: El desafío de las Enfermedades no Transmisibles',\n",
              "       'Autism Spectrum Disorder', 'Autodesk CAD/CAM for Manufacturing',\n",
              "       'Autodesk CAD/CAM/CAE for Mechanical Engineering',\n",
              "       'Autodesk Certified Professional: AutoCAD for Design and Drafting Exam Prep',\n",
              "       'Autodesk Certified Professional: Revit for Architectural Design Exam Prep',\n",
              "       'BIM Fundamentals for Engineers', 'Basic Statistics',\n",
              "       'Bayesian Statistics: From Concept to Data Analysis',\n",
              "       'Bayesian Statistics: Techniques and Models',\n",
              "       'Become a CBRS Certified Professional Installer by Google',\n",
              "       'Become a Journalist: Report the News!',\n",
              "       'Become a Sustainable Business Change Agent',\n",
              "       'Becoming a Sports Agent',\n",
              "       'Becoming a changemaker: Introduction to Social Innovation',\n",
              "       'Behavioral Finance',\n",
              "       'Beyond the Sustainable Development Goals (SDGs): Addressing Sustainability and Development',\n",
              "       'Big Data – Introducción al uso práctico de datos masivos',\n",
              "       \"Biohacking Your Brain's Health\",\n",
              "       'Biology Meets Programming: Bioinformatics for Beginners',\n",
              "       'Biostatistics in Public Health',\n",
              "       'Blended Language Learning: Design and Practice for Teachers',\n",
              "       'Blockchain', 'Blockchain Revolution',\n",
              "       'Blockchain Revolution in Financial Services',\n",
              "       'Blockchain: Foundations and Use Cases',\n",
              "       'Boosting Creativity for Innovation',\n",
              "       'Brand Management: Aligning Business, Brand and Behaviour',\n",
              "       'Branding: The Creative Journey',\n",
              "       'Budgeting and Scheduling Projects',\n",
              "       'Bugs 101: Insect-Human Interactions',\n",
              "       'Build a Modern Computer from First Principles: From Nand to Tetris (Project-Centered Course)',\n",
              "       'Building Batch Data Pipelines on GCP',\n",
              "       'Building Conversational Experiences with Dialogflow',\n",
              "       'Building Resilient Streaming Analytics Systems on GCP',\n",
              "       'Building Scalable Java Microservices with Spring Boot and Spring Cloud',\n",
              "       'Building Your Leadership Skills', 'Business Analytics',\n",
              "       'Business English', 'Business English Communication Skills',\n",
              "       'Business English: Networking', 'Business Foundations',\n",
              "       'Business Model Innovation', 'Business Statistics and Analysis',\n",
              "       'Business Strategies for A Better World', 'Business Strategy',\n",
              "       'Business Technology Management',\n",
              "       'Business Transformation with Google Cloud', 'Business Writing',\n",
              "       'Business and Financial Modeling',\n",
              "       'C for Everyone: Programming Fundamentals',\n",
              "       'C# Programming for Unity Game Development',\n",
              "       'COVID-19 Contact Tracing',\n",
              "       'COVID-19: What You Need to Know (CME Eligible)',\n",
              "       'Cameras, Exposure, and Photography',\n",
              "       'Camino a la Excelencia en Gestión de Proyectos',\n",
              "       'Capstone: Retrieving, Processing, and Visualizing Data with Python',\n",
              "       'Career Success',\n",
              "       'Challenging Forensic Science: How Science Should Speak to Court',\n",
              "       'Chemicals and Health', 'Chicken Behaviour and Welfare',\n",
              "       'Child Nutrition and Cooking', 'Chinese for HSK 1',\n",
              "       'Cisco Networking Basics', 'Classical Sociological Theory',\n",
              "       'Claves de la Dirección de Empresas',\n",
              "       'Climate Change and Health: From Science to Action',\n",
              "       'Clinical Terminology for International and U.S. Students',\n",
              "       'Cloud Computing', 'Cloud Computing Basics (Cloud 101)',\n",
              "       'Cloud Engineering with Google Cloud',\n",
              "       'Coaching Skills for Managers',\n",
              "       'Code Yourself! An Introduction to Programming',\n",
              "       'Communication Skills for Engineers',\n",
              "       'Communication Strategies for a Virtual Age',\n",
              "       'Compassionate Leadership Through Service Learning with Jane Goodall and Roots & Shoots',\n",
              "       'Competencias digitales. Herramientas de ofimática (Microsoft Word, Excel, Power Point)',\n",
              "       'Competitive Strategy and Organization Design',\n",
              "       'Computational Social Science',\n",
              "       'Computational Thinking for Problem Solving',\n",
              "       'Computer Security and Systems Management', 'Conflict Management',\n",
              "       'Construction Cost Estimating and Cost Control',\n",
              "       'Construction Management', 'Construction Project Management',\n",
              "       'Construction Scheduling', 'Contabilidad para no contadores',\n",
              "       'Content Strategy for Professionals',\n",
              "       'Continuous Delivery & DevOps', 'Control of Mobile Robots',\n",
              "       'Convolutional Neural Networks',\n",
              "       'Convolutional Neural Networks in TensorFlow',\n",
              "       'Corporate & Commercial Law I: Contracts & Employment Law',\n",
              "       'Corporate Finance Essentials', 'Corporate Strategy',\n",
              "       'Corporate Sustainability. Understanding and Seizing the Strategic Opportunity',\n",
              "       'Corrección, estilo y  variaciones de la lengua española',\n",
              "       'Cost and Economics in Pricing Strategy',\n",
              "       'Costos para los Negocios', 'Crash Course on Python',\n",
              "       'Creative Problem Solving', 'Creative Writing',\n",
              "       'Creative Writing: The Craft of Plot',\n",
              "       'Creatividad, diseño e innovación: Técnicas y herramientas',\n",
              "       'Cuidado de heridas en el ámbito hospitalario',\n",
              "       'Cuidados y procedimientos generales en la atención del recién nacido',\n",
              "       'Culture-Driven Team Building',\n",
              "       'Curanderismo: Traditional Healing Using Plants',\n",
              "       'Customer Segmentation and Prospecting', 'Cybersecurity',\n",
              "       'Cybersecurity and Its Ten Domains', 'Cybersecurity for Business',\n",
              "       'Cómo hablar bien en público', 'Dairy Production and Management',\n",
              "       'Data Analysis and Interpretation',\n",
              "       'Data Analysis and Presentation Skills: the PwC Approach',\n",
              "       'Data Analysis with Python', 'Data Analytics for Lean Six Sigma',\n",
              "       'Data Collection and Processing with Python',\n",
              "       'Data Engineering on Google Cloud Platform 日本語版',\n",
              "       'Data Engineering with Google Cloud',\n",
              "       'Data Engineering, Big Data, and Machine Learning on GCP',\n",
              "       'Data Management for Clinical Research', 'Data Mining',\n",
              "       'Data Science', 'Data Science Math Skills',\n",
              "       'Data Science Methodology', 'Data Science: Foundations using R',\n",
              "       'Data Science: Statistics and Machine Learning',\n",
              "       'Data Visualization and Communication with Tableau',\n",
              "       'Data Visualization with Advanced Excel',\n",
              "       'Data Visualization with Python',\n",
              "       'Data Visualization with Tableau',\n",
              "       'Data Warehousing for Business Intelligence',\n",
              "       'Data and Health Indicators in Public Health Practice',\n",
              "       'Data-driven Decision Making',\n",
              "       'Databases and SQL for Data Science', 'De-Mystifying Mindfulness',\n",
              "       'Decision-Making and Scenarios', 'Deep Learning',\n",
              "       'Democracia y decisiones públicas. Introducción al análisis de políticas públicas',\n",
              "       'Dentistry 101', 'Dermatology: Trip to skin',\n",
              "       'Design Thinking for Innovation',\n",
              "       'Design Thinking for the Greater Good: Innovation in the Social Sector',\n",
              "       'Design and Interpretation of Clinical Trials',\n",
              "       'Design and Make Infographics (Project-Centered Course)',\n",
              "       'Design-Led Strategy: Design thinking for business strategy and entrepreneurship',\n",
              "       \"Developing APIs with Google Cloud's Apigee API Platform\",\n",
              "       'Developing Applications with Google Cloud Platform',\n",
              "       'Developing Applications with Google Cloud Platform 日本語版',\n",
              "       'Developing Industrial Internet of Things',\n",
              "       'Developing Your Musicianship',\n",
              "       'Devenir entrepreneur du changement',\n",
              "       'Digital Advertising Strategy', 'Digital Business Models',\n",
              "       'Digital Manufacturing & Design Technology', 'Digital Marketing',\n",
              "       'Digital Media and Marketing Strategies',\n",
              "       'Digital Product Management',\n",
              "       'Digital Product Management: Modern Fundamentals',\n",
              "       'Dino 101: Dinosaur Paleobiology', 'Discrete Optimization',\n",
              "       'Diseño Instruccional: Aprendizaje activo y Pedagogía digital',\n",
              "       'Diseño y Creación de un Emprendimiento Social',\n",
              "       'Divide and Conquer, Sorting and Searching, and Randomized Algorithms',\n",
              "       'Dog Emotion and Cognition',\n",
              "       'Driving business towards the Sustainable Development Goals',\n",
              "       'Drug Commercialization', 'Drug Discovery',\n",
              "       'Dynamic Public Speaking', 'EMT Foundations',\n",
              "       'Ecology: Ecosystem Dynamics and Conservation',\n",
              "       'Econometrics: Methods and Applications',\n",
              "       'Economics of Money and Banking',\n",
              "       'Ecosystem Services: a Method for Sustainable Development',\n",
              "       'Effective Compliance Programs', 'Egiptología (Egyptology)',\n",
              "       'El Abogado del Futuro: Legaltech y la Transformación Digital del Derecho',\n",
              "       'Elastic Google Cloud Infrastructure: Scaling and Automation',\n",
              "       'Electric Industry Operations and Markets',\n",
              "       'Electronic Music Production',\n",
              "       'Emerging Technologies: From Smartphones to IoT to Big Data',\n",
              "       'Energy Production, Distribution & Safety',\n",
              "       'Engineering Health: Introduction to Yoga and Physiology',\n",
              "       'Engineering Project Management: Initiating and Planning',\n",
              "       'English Composition I',\n",
              "       'English for Business and Entrepreneurship',\n",
              "       'English for Career Development', 'English for Journalism',\n",
              "       'English for Research Publication Purposes',\n",
              "       'English for Science, Technology, Engineering, and Mathematics',\n",
              "       'Enterprise Architecture',\n",
              "       'Entrepreneurial Finance: Strategy and Innovation',\n",
              "       'Entrepreneurship',\n",
              "       'Entrepreneurship 1: Developing the Opportunity',\n",
              "       'Entrepreneurship 2: Launching your Start-Up',\n",
              "       'Entrepreneurship 3: Growth Strategies',\n",
              "       'Entrepreneurship Strategy: From Ideation to Exit',\n",
              "       'Entrepreneurship: Launching an Innovative Business',\n",
              "       'Epidemics - the Dynamics of Infectious Diseases',\n",
              "       'Epidemics, Pandemics and Outbreaks',\n",
              "       'Epidemiology for Public Health',\n",
              "       'Epidemiology in Public Health Practice',\n",
              "       'Epidemiology: The Basic Science of Public Health',\n",
              "       'Epigenetic Control of Gene Expression',\n",
              "       'Equine Welfare and Management', 'Esports',\n",
              "       'Essential Epidemiologic Tools for Public Health Practice',\n",
              "       'Essential Google Cloud Infrastructure: Core Services',\n",
              "       'Essential Google Cloud Infrastructure: Foundation',\n",
              "       'Essentials in Clinical Simulations Across the Health Professions',\n",
              "       'Essentials of Corporate Finance', 'Essentials of Global Health',\n",
              "       'Estadística y probabilidad', 'Evaluación educativa',\n",
              "       'Everyday Excel, Part 1',\n",
              "       'Everyday Parenting: The ABCs of Child Rearing',\n",
              "       'Excel Skills for Business', 'Excel Skills for Business: Advanced',\n",
              "       'Excel Skills for Business: Essentials',\n",
              "       'Excel Skills for Business: Intermediate I',\n",
              "       'Excel Skills for Business: Intermediate II',\n",
              "       'Excel to MySQL: Analytic Techniques for Business',\n",
              "       'Excel/VBA for Creative Problem Solving',\n",
              "       'Excel/VBA for Creative Problem Solving, Part 1',\n",
              "       'Executive Data Science', 'Explorando la Energía Sustentable',\n",
              "       'Fashion as Design', 'Feminism and Social Justice',\n",
              "       'FinTech Law and Policy',\n",
              "       'FinTech: Finance Industry Transformation and Regulation',\n",
              "       'FinTech: Foundations, Payments, and Regulations',\n",
              "       'Finance & Quantitative Modeling for Analysts',\n",
              "       'Finance for Non-Finance Professionals',\n",
              "       'Finance for Non-Financial Managers',\n",
              "       'Financial Accounting Fundamentals',\n",
              "       'Financial Acumen for Non-Financial Managers',\n",
              "       'Financial Engineering and Risk Management Part I',\n",
              "       'Financial Management', 'Financial Markets',\n",
              "       'Financial Markets and Investment Strategy', 'Financial Reporting',\n",
              "       'Financial Technology (Fintech) Innovations',\n",
              "       'Financing and Investing in Infrastructure',\n",
              "       'Finanzas corporativas', 'Finanzas personales',\n",
              "       'Finding Purpose and Meaning In Life: Living for What Matters Most',\n",
              "       'Fintech: Foundations & Applications of Financial Technology',\n",
              "       'First Step Korean', 'Food & Beverage Management',\n",
              "       'Forensic Accounting and Fraud Examination',\n",
              "       'Formulación y evaluación de proyectos complejos',\n",
              "       'Foundational Finance for Strategic Decision Making',\n",
              "       'Foundations of Business Strategy',\n",
              "       'Foundations of Everyday Leadership',\n",
              "       'Foundations of Global Health', 'Foundations of Management',\n",
              "       'Foundations of Marketing Analytics',\n",
              "       'Foundations of Positive Psychology',\n",
              "       'Foundations of Public Health Practice',\n",
              "       'From Data to Insights with Google Cloud Platform',\n",
              "       'From the Big Bang to Dark Energy',\n",
              "       'Front-End Web Development with React',\n",
              "       'Front-End Web UI Frameworks and Tools: Bootstrap 4',\n",
              "       'Full Stack Web and Multiplatform Mobile App Development',\n",
              "       'Full-Stack Web Development with React',\n",
              "       'Functional Programming Principles in Scala',\n",
              "       'Functional Programming in Scala',\n",
              "       'Fundamental Neuroscience for Neuroimaging',\n",
              "       'Fundamentals of Accounting', 'Fundamentals of Computing',\n",
              "       'Fundamentals of Engineering Exam Review', 'Fundamentals of GIS',\n",
              "       'Fundamentals of Graphic Design', 'Fundamentals of Immunology',\n",
              "       'Fundamentals of Immunology: Innate Immunity and B-Cell Function',\n",
              "       'Fundamentals of Music Theory',\n",
              "       'Fundamentals of Project Planning and Management',\n",
              "       'Fundamentals of Quantitative Modeling',\n",
              "       'Fundamentals of Reinforcement Learning',\n",
              "       'Fundamentals of Visualization with Tableau',\n",
              "       'Fundamentos Empresariales',\n",
              "       'Fundamentos Estratégicos Empresariales',\n",
              "       'Fundamentos de Excel para Negocios',\n",
              "       'Fundamentos de Finanzas Empresariales',\n",
              "       'Fundamentos de la escritura', 'Fundraising and Development',\n",
              "       'Futures Thinking', 'G Suite Administration',\n",
              "       'GIS, Mapping, and Spatial Analysis',\n",
              "       'Game Design and Development', 'Game Theory', 'Gamification',\n",
              "       'Gender and Sexuality: Diversity and Inclusion in the Workplace',\n",
              "       'Genomic Data Science', 'Geographic Information Systems  (GIS)',\n",
              "       'Geopolitics of Europe',\n",
              "       'Geopolítica y gobernanza global: riesgos y oportunidades',\n",
              "       'Gestión de organizaciones efectivas',\n",
              "       'Get Interactive: Practical Teaching with Technology',\n",
              "       'Getting Started With Music Theory',\n",
              "       'Getting Started with AWS Machine Learning',\n",
              "       'Getting Started with Go',\n",
              "       'Getting Started with Google Kubernetes Engine',\n",
              "       'Getting Started with Google Sheets',\n",
              "       'Getting Started with SAS Programming',\n",
              "       'Global Diplomacy – Diplomacy in the Modern World',\n",
              "       'Global Diplomacy: the United Nations in the World',\n",
              "       'Global Energy and Climate Policy',\n",
              "       'Global Environmental Management',\n",
              "       'Global Financial Markets and Instruments',\n",
              "       'Global Financing Solutions  (by EDHEC and Société Générale)',\n",
              "       'Global Trends for Business and Society',\n",
              "       'Globalization, Economic Growth and Stability',\n",
              "       'Good with Words: Writing and Editing',\n",
              "       'Google Cloud Platform Big Data and Machine Learning Fundamentals',\n",
              "       'Google Cloud Platform Fundamentals for AWS Professionals',\n",
              "       'Google IT Automation with Python', 'Google IT Support',\n",
              "       'Grammar and Punctuation',\n",
              "       'Graphic Design Elements for Non-Designers',\n",
              "       'Greek and Roman Mythology',\n",
              "       'Greening the Economy: Sustainable Cities', 'Guitar for Beginners',\n",
              "       'Gut Check: Exploring Your Microbiome',\n",
              "       'HTML, CSS, and Javascript for Web Developers',\n",
              "       'Habilidades Gerenciales',\n",
              "       'Hacia una práctica constructivista en el aula',\n",
              "       'Hardware Description Languages for FPGA Design',\n",
              "       'Healing with the Arts', 'Health Informatics',\n",
              "       'Health Information Literacy for Data Analytics', 'Healthcare Law',\n",
              "       'Healthcare Marketplace', 'Healthcare Organization Operations',\n",
              "       'High Performance Collaboration: Leadership, Teamwork, and Negotiation',\n",
              "       'Homeland Security and Cybersecurity',\n",
              "       'Hotel Management: Distribution, Revenue and Demand Management',\n",
              "       'How Things Work: An Introduction to Physics',\n",
              "       'How To Create a Website in a Weekend! (Project-Centered Course)',\n",
              "       'How to Start Your Own Business',\n",
              "       'Human Resource Management: HR for People Managers',\n",
              "       'IBM AI Engineering', 'IBM AI Enterprise Workflow',\n",
              "       'IBM Applied AI',\n",
              "       'IBM Customer Engagement Specialist Professional Certificate',\n",
              "       'IBM Data Science', 'IT Fundamentals for Cybersecurity',\n",
              "       'IT Security: Defense against the digital dark arts',\n",
              "       'Identifying, Monitoring, and Analyzing Risk and Incident Response and Recovery',\n",
              "       'Implementación del Marketing Mix',\n",
              "       'Implementing RPA with Cognitive Automation and Analytics',\n",
              "       'Improve Your English Communication Skills',\n",
              "       'Improving Deep Neural Networks: Hyperparameter tuning, Regularization and Optimization',\n",
              "       'Improving Leadership & Governance in Nonprofit Organizations',\n",
              "       'In the Studio: Postwar Abstract Painting', 'Indigenous Canada',\n",
              "       'Industrial IoT on Google Cloud Platform',\n",
              "       'Infectious Disease Modelling', 'Influencer Marketing Strategy',\n",
              "       'Influencing: Storytelling, Change Management and Governance',\n",
              "       'Information Security: Context and Introduction',\n",
              "       'Information Visualization', 'Information\\u200b \\u200bSystems',\n",
              "       'Initiating and Planning Projects', 'Innovation Management',\n",
              "       'Innovation Through Design: Think, Make, Break, Repeat',\n",
              "       'Innovation: From Creativity to Entrepreneurship',\n",
              "       'Inspirational Leadership: Leading with Sense',\n",
              "       'Inspired Leadership', 'Inspiring and Motivating Individuals',\n",
              "       'Instructional Design Foundations and Applications',\n",
              "       'Instructional Methods in Health Professions Education',\n",
              "       'Integrative Health and Medicine', 'Intellectual Property Law',\n",
              "       'Interaction Design', 'Intercultural Management',\n",
              "       'International Business Essentials',\n",
              "       'International Cyber Conflicts',\n",
              "       'International Humanitarian Law in Theory and Practice',\n",
              "       'International Law in Action: A Guide to the International Courts and Tribunals in The Hague',\n",
              "       'International Law in Action: the Arbitration of International Disputes',\n",
              "       'International Leadership and Organizational Behavior',\n",
              "       'International Marketing & Cross Industry Growth',\n",
              "       'International Organizations Management',\n",
              "       'International Security Management',\n",
              "       \"International Women's Health and Human Rights\",\n",
              "       'International migrations: a global issue',\n",
              "       'Internet Connection: How to Get Online?',\n",
              "       'Internet Giants: The Law and Economics of Media Platforms',\n",
              "       'Interviewing and Resume Writing in English',\n",
              "       'Introducción a Data Science: Programación Estadística con R',\n",
              "       'Introducción a la programación en Python I: Aprendiendo a programar con Python',\n",
              "       'Introduction aux Droits de l’Homme',\n",
              "       'Introduction to Ableton Live',\n",
              "       'Introduction to Artificial Intelligence (AI)',\n",
              "       'Introduction to Big Data',\n",
              "       'Introduction to Blockchain Technologies',\n",
              "       'Introduction to Breast Cancer',\n",
              "       'Introduction to Business Analytics: Communicating with Data',\n",
              "       'Introduction to CSS3', 'Introduction to Calculus',\n",
              "       'Introduction to Chemistry:  Reactions and Ratios',\n",
              "       'Introduction to Classical Music',\n",
              "       'Introduction to Cloud Computing',\n",
              "       'Introduction to Computer Programming',\n",
              "       'Introduction to Computer Science and Programming',\n",
              "       'Introduction to Corporate Finance',\n",
              "       'Introduction to Cyber Attacks', 'Introduction to Cyber Security',\n",
              "       'Introduction to Cybersecurity Tools & Cyber Attacks',\n",
              "       'Introduction to Data Analysis Using Excel',\n",
              "       'Introduction to Data Science',\n",
              "       'Introduction to Data Science in Python',\n",
              "       'Introduction to Dental Medicine',\n",
              "       'Introduction to Discrete Mathematics for Computer Science',\n",
              "       'Introduction to Electronics',\n",
              "       'Introduction to Embedded Systems Software and Development Environments',\n",
              "       'Introduction to Engineering Mechanics',\n",
              "       'Introduction to Environmental Law and Policy',\n",
              "       'Introduction to Financial Accounting',\n",
              "       'Introduction to Forensic Science',\n",
              "       'Introduction to Game Development',\n",
              "       'Introduction to Genetics and Evolution',\n",
              "       'Introduction to Genomic Technologies', 'Introduction to HTML5',\n",
              "       'Introduction to Imagemaking',\n",
              "       'Introduction to Intellectual Property',\n",
              "       'Introduction to International Criminal Law',\n",
              "       'Introduction to Marketing',\n",
              "       'Introduction to Mathematical Thinking',\n",
              "       'Introduction to Operations Management',\n",
              "       'Introduction to Personal Branding', 'Introduction to Philosophy',\n",
              "       'Introduction to Portfolio Construction and Analysis with Python',\n",
              "       'Introduction to Probability and Data',\n",
              "       'Introduction to Programming in C',\n",
              "       'Introduction to Programming with MATLAB',\n",
              "       'Introduction to Psychology',\n",
              "       'Introduction to Scripting in Python',\n",
              "       'Introduction to Self-Driving Cars',\n",
              "       'Introduction to Spreadsheets and Models',\n",
              "       'Introduction to Statistics & Data Analysis in Public Health',\n",
              "       'Introduction to Sustainability',\n",
              "       'Introduction to Systematic Review and Meta-Analysis',\n",
              "       'Introduction to Systems Engineering',\n",
              "       'Introduction to TensorFlow for Artificial Intelligence, Machine Learning, and Deep Learning',\n",
              "       'Introduction to Thermodynamics: Transferring Energy from Here to There',\n",
              "       'Introduction to Trading, Machine Learning & GCP',\n",
              "       'Introduction to Typography',\n",
              "       'Introduction to User Experience Design',\n",
              "       'Introduction to User Experience Principles and Processes',\n",
              "       'Introduction to Web Development',\n",
              "       'Introduction to the Biology of Cancer',\n",
              "       'Introductory Human Physiology',\n",
              "       'Introdução aos Princípios e Práticas da Gestão De Projetos',\n",
              "       'Introdução à Ciência da Computação com Python Parte 1',\n",
              "       'Investment Management',\n",
              "       'Investment Management with Python and Machine Learning',\n",
              "       'Investment and Portfolio Management', 'Japanese for beginners 1',\n",
              "       'Java Programming and Software Engineering Fundamentals',\n",
              "       'Java Programming: Solving Problems with Software',\n",
              "       'Julia Scientific Programming', 'Kotlin for Java Developers',\n",
              "       \"L'excellence opérationnelle en pratique\",\n",
              "       \"L'impact investing, la finance qui change le monde\",\n",
              "       'Leadership Development for Engineers',\n",
              "       'Leadership in 21st Century Organizations',\n",
              "       'Leading Healthcare Quality and Safety',\n",
              "       'Leading People and Teams',\n",
              "       'Leading for Equity, Diversity and Inclusion in Higher Education',\n",
              "       'Leading: Human Resource Management and Leadership',\n",
              "       'Learn Chinese: HSK Test Preparation', 'Learn English',\n",
              "       'Learn English: Advanced Academic Speaking and Listening',\n",
              "       'Learn English: Advanced Grammar and Punctuation',\n",
              "       'Learn English: Intermediate Grammar', 'Learn Mandarin Chinese',\n",
              "       'Learn SQL Basics for Data Science',\n",
              "       'Learn Spanish: Basic Spanish Vocabulary',\n",
              "       'Learn to Program: The Fundamentals', 'Learn to Speak Korean 1',\n",
              "       'Learning to Teach Online', 'Legal Tech & Startups',\n",
              "       'Les Fondamentaux de la Négociation',\n",
              "       'Liderazgo efectivo para el siglo XXI',\n",
              "       'Linear Circuits 1: DC Analysis',\n",
              "       'Love as a Force for Social Justice', 'Machine Learning',\n",
              "       'Machine Learning Foundations: A Case Study Approach',\n",
              "       'Machine Learning and Reinforcement Learning in Finance',\n",
              "       'Machine Learning for All',\n",
              "       'Machine Learning for Business Professionals',\n",
              "       'Machine Learning for Trading', 'Machine Learning with Python',\n",
              "       'Machine Learning with TensorFlow on Google Cloud Platform',\n",
              "       'Magic in the Middle Ages', 'Making Architecture',\n",
              "       'Management of Fashion and Luxury Companies',\n",
              "       'Managerial Accounting Fundamentals',\n",
              "       'Managerial Economics and Business Analysis',\n",
              "       'Managing Innovation and Design Thinking',\n",
              "       'Managing Project Risks and Changes',\n",
              "       'Managing Social and Human Capital',\n",
              "       'Managing Your Health: The Role of Physical Therapy and Exercise',\n",
              "       'Market Research', 'Marketing Digital', 'Marketing Gerencial',\n",
              "       'Marketing Mix Implementation', 'Marketing Strategy',\n",
              "       'Marketing Verde', 'Marketing con Redes Sociales',\n",
              "       'Marketing in a Digital World', 'Mastering Data Analysis in Excel',\n",
              "       'Mastering Final Cut Pro', 'Mastering Software Development in R',\n",
              "       'Materials Science: 10 Things Every Engineer Should Know',\n",
              "       'Mathematics for Data Science', 'Mathematics for Machine Learning',\n",
              "       'Mathematics for Machine Learning: Linear Algebra',\n",
              "       'Mathematics for Machine Learning: Multivariate Calculus',\n",
              "       'Mathematics for Machine Learning: PCA',\n",
              "       'Medical Cannabis: The Health Effects of THC and CBD',\n",
              "       'Medical Neuroscience',\n",
              "       'Memoir and Personal Essay: Write About Yourself',\n",
              "       'Methods and Statistics in Social Sciences',\n",
              "       'Microeconomics Principles',\n",
              "       'Microeconomics: The Power of Markets',\n",
              "       'Mindshift: Break Through Obstacles to Learning and Discover Your Hidden Potential',\n",
              "       'Miracles of Human Language: An Introduction to Linguistics',\n",
              "       'Model Thinking', 'Modeling Risk and Realities',\n",
              "       'Modern Art & Ideas', 'Modern Big Data Analysis with SQL',\n",
              "       'Modern Robotics:  Mechanics, Planning, and Control',\n",
              "       'Modernizing Data Lakes and Data Warehouses with GCP',\n",
              "       'Moral Foundations of Politics',\n",
              "       'More Introduction to Financial Accounting', 'Mountains 101',\n",
              "       'Municipal Solid Waste Management in Developing Countries',\n",
              "       'Music Business', 'Music Business Foundations', 'Music Production',\n",
              "       'Nanotechnology: A Maker’s Course',\n",
              "       'Natural Language Processing in TensorFlow',\n",
              "       'Negociación exitosa: Estrategias y habilidades esenciales (en español)',\n",
              "       'Negotiation, Mediation and Conflict Resolution',\n",
              "       'Networking and Security Architecture with VMware NSX',\n",
              "       'Networking in Google Cloud', 'Neural Networks and Deep Learning',\n",
              "       'Neurolinguistics',\n",
              "       'New Approaches to Countering Terror: Countering Violent Extremism',\n",
              "       'Newborn Baby Care', 'Nutrición y obesidad: control de sobrepeso',\n",
              "       'Nutrition and Lifestyle in Pregnancy',\n",
              "       'Object Oriented Java Programming: Data Structures and Beyond',\n",
              "       'Object Oriented Programming in Java',\n",
              "       'Object-Oriented Data Structures in C++', 'Object-Oriented Design',\n",
              "       'Oil & Gas Industry Operations and Markets',\n",
              "       'Open Source Software Development, Linux and Git',\n",
              "       'Operating Systems and You: Becoming a Power User',\n",
              "       'Operations Analytics', 'Optical Engineering',\n",
              "       'Organizational Leadership',\n",
              "       'Osteoarchaeology: The Truth in Our Bones',\n",
              "       \"Palliative Care: It's Not Just Hospice Anymore\",\n",
              "       'Palo Alto Networks Cybersecurity',\n",
              "       'Parallel, Concurrent, and Distributed Programming in Java',\n",
              "       'Particle Physics: an Introduction', 'Patient Safety',\n",
              "       'Patrocinio Deportivo', 'People Analytics',\n",
              "       'Perfect Tenses and Modals',\n",
              "       'Periodismo digital y combate a las fake news',\n",
              "       'Photography Basics and Beyond: From Smartphone to DSLR',\n",
              "       'Plant Bioinformatic Methods',\n",
              "       'Politics and Economics of International Energy',\n",
              "       'Positive Psychiatry and Mental Health', 'Positive Psychology',\n",
              "       'Positive Psychology: Applications and Interventions',\n",
              "       'Positive Psychology: Martin E. P. Seligman’s Visionary Science',\n",
              "       'Positive Psychology: Resilience Skills', 'Power Electronics',\n",
              "       'Practical Data Science with MATLAB',\n",
              "       'Practical Time Series Analysis',\n",
              "       'Preparing for the Google Cloud Associate Cloud Engineer Exam',\n",
              "       'Preparing to Manage Human Resources',\n",
              "       'Presentation Skills: Speechwriting, Slides and Delivery',\n",
              "       'Pricing Strategy Optimization',\n",
              "       'Primeros Auxilios Psicológicos (PAP)',\n",
              "       'Private Equity and Venture Capital',\n",
              "       'Probabilistic Graphical Models 1: Representation',\n",
              "       'Probability and Statistics: To p or not to p?',\n",
              "       'Process Mining: Data science in Action',\n",
              "       'Programming Foundations with JavaScript, HTML and CSS',\n",
              "       'Programming Fundamentals',\n",
              "       'Programming for Everybody (Getting Started with Python)',\n",
              "       'Programming with Google Go', 'Project Execution',\n",
              "       'Project Launch',\n",
              "       'Project Management & Other Tools for Career Development',\n",
              "       'Project Management Principles and Practices',\n",
              "       'Psychological First Aid',\n",
              "       'Public Policy Challenges of the 21st Century', 'Python Basics',\n",
              "       'Python Classes and Inheritance', 'Python Data Structures',\n",
              "       'Python Functions, Files, and Dictionaries',\n",
              "       'Python and Statistics for Financial Analysis',\n",
              "       'Python for Data Science and AI', 'Python for Everybody',\n",
              "       'Quantitative Methods',\n",
              "       'Queering Identities: LGBTQ+ Sexuality and Gender Identity',\n",
              "       'R Programming',\n",
              "       'Ready, Set, Future! Introduction to Futures Thinking',\n",
              "       'Recommender Systems',\n",
              "       'Recruiting, Hiring, and Onboarding Employees',\n",
              "       'Reinforcement Learning',\n",
              "       'Renewable Energy and Green Building Entrepreneurship',\n",
              "       'Reporting extra-financier et stratégie RSE',\n",
              "       'Requirements Engineering: Secure Software  Specifications',\n",
              "       'Research Data Management and Sharing',\n",
              "       'Resilience in Children Exposed to Trauma, Disaster and War: Global Perspectives',\n",
              "       'Responsive Website Development and Design',\n",
              "       'Rethinking International Tax Law',\n",
              "       'Revisão Sistemática e Meta-análise', 'Robotics',\n",
              "       'Roman Architecture', 'Russian Alphabet',\n",
              "       'Russian for beginners А1. Русский язык: A1',\n",
              "       'Réussir le Changement', 'SAS Programmer',\n",
              "       'SAS Visual Business Analytics', 'SQL for Data Science',\n",
              "       'Sales Operations/Management',\n",
              "       'Sales Training for High Performing Teams',\n",
              "       'Sample-based Learning Methods',\n",
              "       'Scaling Operations: Linking Strategy and Execution',\n",
              "       'School Health for Children and Adolescents',\n",
              "       'Science of Exercise', 'Search Engine Optimization Fundamentals',\n",
              "       'Secure Coding Practices',\n",
              "       'Security & Safety Challenges in a Globalized World',\n",
              "       'Security in Google Cloud Platform', 'Self-Driving Cars',\n",
              "       'Sequence Models', 'Sexualidad...mucho más que sexo',\n",
              "       'Sharpened Visions: A Poetry Workshop',\n",
              "       'Site Reliability Engineering: Measuring and Managing Reliability',\n",
              "       'Six Sigma Green Belt',\n",
              "       'Six Sigma and the Organization (Advanced)',\n",
              "       'Sleep: Neurobiology, Medicine, and Society',\n",
              "       'Smart Cities – Management of Smart Urban Infrastructures',\n",
              "       'Social Entrepreneurship', 'Social Media Marketing',\n",
              "       'Social Norms, Social Change I',\n",
              "       'Social Policy for Social Services & Health Practitioners',\n",
              "       'Social Psychology',\n",
              "       'Social and Economic Networks:  Models and Analysis',\n",
              "       'Software Design and Architecture',\n",
              "       'Software Development Lifecycle',\n",
              "       'Software Processes and Agile Practices',\n",
              "       'Software Product Management', 'Solar Energy Basics',\n",
              "       'Songwriting: Writing the Lyrics',\n",
              "       'Soporte de Tecnologías de la Información de Google',\n",
              "       'Spacecraft Dynamics and Control',\n",
              "       'Spanish Vocabulary: Meeting People',\n",
              "       'Speak English Professionally: In Person, Online & On the Phone',\n",
              "       'Sports Marketing', 'Sports and Society',\n",
              "       'Stanford Introduction to Food and Health',\n",
              "       \"Stanford's Short Course on Breastfeeding\",\n",
              "       'Statistical Analysis with R for Public Health',\n",
              "       'Statistics with Python', 'Statistics with R',\n",
              "       'Stories of Infection', 'Strategic Business Analytics',\n",
              "       'Strategic Business Management - Microeconomics',\n",
              "       'Strategic Leadership and Management', 'Strategic Management',\n",
              "       'Strategic Management and Innovation',\n",
              "       'Strategic Sales Management',\n",
              "       'Strategising: Management for Global Competitive Advantage',\n",
              "       'Strategy and Sustainability',\n",
              "       'Structuring Machine Learning Projects', 'Success',\n",
              "       'Successful Negotiation: Essential Strategies and Skills',\n",
              "       'Summary Statistics in Public Health', 'Supply Chain Analytics',\n",
              "       'Supply Chain Finance and Blockchain Technology',\n",
              "       'Supply Chain Logistics', 'Supply Chain Management',\n",
              "       'Supply Chain Operations', 'Supply Chain Principles',\n",
              "       'Supporting children with difficulties in reading and writing',\n",
              "       'Survey Data Collection and Analytics',\n",
              "       'Sustainable Tourism – promoting environmental public health',\n",
              "       'Swift 5 iOS Application Developer',\n",
              "       'System Administration and IT Infrastructure Services',\n",
              "       'Systems Biology and Biotechnology',\n",
              "       'Systems Thinking In Public Health',\n",
              "       'TESOL Certificate, Part 1: Teach English Now!',\n",
              "       'TESOL Certificate, Part 2: Teach English Now!',\n",
              "       'Teach English Now! Foundational Principles',\n",
              "       'Teach English Now! Teaching Language Online',\n",
              "       'Teaching Character and Creating Positive Classrooms',\n",
              "       'Teamwork Skills: Communicating Effectively in Groups',\n",
              "       'Technical Support Fundamentals', 'TensorFlow in Practice',\n",
              "       'TensorFlow: Data and Deployment',\n",
              "       'Terrorism and Counterterrorism: Comparing Theory and Practice',\n",
              "       'The Addicted Brain', 'The Art of Music Production',\n",
              "       'The Art of Sales: Mastering the Selling Process',\n",
              "       'The Arts and Science of Relationships: Understanding Human Needs',\n",
              "       'The Bits and Bytes of Computer Networking',\n",
              "       'The Business of Health Care', 'The Business of Music Production',\n",
              "       'The Changing Global Order',\n",
              "       'The Cycle: Management of Successful Arts and Cultural Organizations',\n",
              "       'The DIY Musician', 'The Data Scientist’s Toolbox',\n",
              "       'The Economics of Health Care Delivery',\n",
              "       'The Global Financial Crisis',\n",
              "       'The Horse Course: Introduction to Basic Care and Management',\n",
              "       \"The Manager's Toolkit: A Practical Guide to Managing People at Work\",\n",
              "       'The Modern World, Part One: Global History from 1760 to 1910',\n",
              "       'The Modern World, Part Two: Global History since 1910',\n",
              "       'The Oral Cavity: Portal to Health and Disease',\n",
              "       'The Power of Macroeconomics: Economic Principles in the Real World',\n",
              "       'The Power of Microeconomics: Economic Principles in the Real World',\n",
              "       'The Pronunciation of American English',\n",
              "       'The Science of Gastronomy', 'The Science of Stem Cells',\n",
              "       'The Science of Success: What Researchers Know that You Should Know',\n",
              "       'The Science of Training Young Athletes',\n",
              "       'The Science of Well-Being', 'The Singer Songwriter',\n",
              "       'The Social Context of Mental Health and Illness',\n",
              "       'The Strategy of Content Marketing',\n",
              "       'The Sustainable Development Goals – A global, transdisciplinary vision for the future',\n",
              "       'The Teacher and Social and Emotional Learning (SEL)',\n",
              "       'The Technology of Music Production',\n",
              "       'The Truth About Cats and Dogs',\n",
              "       'The hidden value – Lean in manufacturing and services',\n",
              "       'Think Again I: How to Understand Arguments',\n",
              "       'Tools for Data Science', 'Trading Strategies in Emerging Markets',\n",
              "       'Transmedia Storytelling: Narrative worlds, emerging technologies, and global audiences',\n",
              "       'Tricky American English Pronunciation',\n",
              "       \"Troubles du spectre de l'autisme : diagnostic\",\n",
              "       'U.S. Federal Taxation', 'UCI Project Management',\n",
              "       'UI / UX Design', 'UX Design Fundamentals',\n",
              "       'Understanding Cancer Metastasis',\n",
              "       'Understanding Clinical Research: Behind the Statistics',\n",
              "       'Understanding Einstein: The Special Theory of Relativity',\n",
              "       'Understanding Medical Research: Your Facebook Friend is Wrong',\n",
              "       'Understanding Modern Finance',\n",
              "       'Understanding Plants - Part I: What a Plant Knows',\n",
              "       'Understanding Research Methods',\n",
              "       'Understanding and Visualizing Data with Python',\n",
              "       'Understanding the Brain: The Neurobiology of Everyday Life',\n",
              "       'Unity Certified Programmer Exam Preparation',\n",
              "       'Unity XR: How to Build AR and VR Apps', 'University Teaching',\n",
              "       'Unraveling the Cycling City',\n",
              "       'User Experience Research and Design', 'User Interface Design',\n",
              "       'Using Databases with Python', 'Using Python to Access Web Data',\n",
              "       'Using Python to Interact with the Operating System',\n",
              "       'Value Chain Management', 'Version Control with Git',\n",
              "       'Viral Marketing and How to Craft Contagious Content',\n",
              "       'Virtual Reality', 'Virtual Teacher',\n",
              "       'Vital Signs: Understanding What the Body Is Telling Us',\n",
              "       'Web Applications for Everybody',\n",
              "       'Web Design for Everybody: Basics of Web Development & Coding',\n",
              "       'Weight Management: Beyond Balancing Calories',\n",
              "       'What Is Contemporary Art?', 'What future for education?',\n",
              "       'What is Compliance?', 'What is Data Science?', 'What is Social?',\n",
              "       'Wine Tasting: Sensory Techniques for Wine Analysis',\n",
              "       'Wonders of Ancient Egypt',\n",
              "       'Write A Feature Length Screenplay For Film Or Television',\n",
              "       'Write Professional Emails in English', 'Write Your First Novel',\n",
              "       'Writing in the Sciences',\n",
              "       'e-Learning Ecologies: Innovative Approaches to Teaching and Learning for the Digital Age',\n",
              "       'iOS App Development with Swift',\n",
              "       '¿Qué hacen los buenos directivos? Prioridades de la Alta Dirección',\n",
              "       'Étudier en France: French Intermediate course B1-B2',\n",
              "       'Éxito Profesional', 'Искусство ведения бизнеса',\n",
              "       'Искусство разработки на современном C++',\n",
              "       'Корпоративные финансы и стоимость компании',\n",
              "       'Математика и Python для анализа данных',\n",
              "       'Машинное обучение и анализ данных', 'Основы Digital Маркетинга',\n",
              "       'Основы программирования на Python',\n",
              "       'Основы разработки на C++: белый пояс', 'Погружение в Python',\n",
              "       'Программирование на Python',\n",
              "       'Психолингвистика (Psycholinguistics)',\n",
              "       'Разработка интерфейсов: вёрстка и JavaScript',\n",
              "       'Русский как иностранный',\n",
              "       'Финансовые инструменты для частного инвестора'], dtype=object)"
            ]
          },
          "metadata": {},
          "execution_count": 59
        }
      ]
    },
    {
      "cell_type": "code",
      "source": [
        "df['course_title'].value_counts()\n"
      ],
      "metadata": {
        "colab": {
          "base_uri": "https://localhost:8080/"
        },
        "id": "nkyeXILLjRJq",
        "outputId": "44f04425-26f0-4efa-faba-f818aab1402b"
      },
      "execution_count": null,
      "outputs": [
        {
          "output_type": "execute_result",
          "data": {
            "text/plain": [
              "Machine Learning                                            2\n",
              "Developing Your Musicianship                                2\n",
              "Marketing Digital                                           2\n",
              "The Business of Music Production                            1\n",
              "Introduction to Systems Engineering                         1\n",
              "                                                           ..\n",
              "TensorFlow: Data and Deployment                             1\n",
              "Habilidades Gerenciales                                     1\n",
              "Solar Energy Basics                                         1\n",
              "Introduction to User Experience Principles and Processes    1\n",
              "Process Mining: Data science in Action                      1\n",
              "Name: course_title, Length: 888, dtype: int64"
            ]
          },
          "metadata": {},
          "execution_count": 64
        }
      ]
    },
    {
      "cell_type": "code",
      "source": [
        "df['course_organization'].value_counts()\n"
      ],
      "metadata": {
        "colab": {
          "base_uri": "https://localhost:8080/"
        },
        "id": "_zz4Y8Wtj03R",
        "outputId": "b3db714e-e7c3-4ca7-b8f9-f507cb39fb0a"
      },
      "execution_count": null,
      "outputs": [
        {
          "output_type": "execute_result",
          "data": {
            "text/plain": [
              "University of Pennsylvania            59\n",
              "University of Michigan                41\n",
              "Google Cloud                          34\n",
              "Duke University                       28\n",
              "Johns Hopkins University              28\n",
              "                                      ..\n",
              "Cloudera                               1\n",
              "The University of Hong Kong            1\n",
              "IE School of Architecture & Design     1\n",
              "University of New Mexico               1\n",
              "UCL School of Management               1\n",
              "Name: course_organization, Length: 154, dtype: int64"
            ]
          },
          "metadata": {},
          "execution_count": 62
        }
      ]
    },
    {
      "cell_type": "code",
      "source": [
        "df['course_organization'].unique()\n"
      ],
      "metadata": {
        "id": "kJ4sPGvxTR5Z",
        "colab": {
          "base_uri": "https://localhost:8080/"
        },
        "outputId": "ea859918-7286-4943-c368-bb243bbf3029"
      },
      "execution_count": null,
      "outputs": [
        {
          "output_type": "execute_result",
          "data": {
            "text/plain": [
              "array(['(ISC)²', 'University of Pennsylvania', 'Johns Hopkins University',\n",
              "       'Yale University', 'Indian School of Business',\n",
              "       'University at Buffalo', 'deeplearning.ai', 'IBM',\n",
              "       'Amazon Web Services', 'University of Toronto',\n",
              "       'University of California, Irvine',\n",
              "       'University of Illinois at Urbana-Champaign',\n",
              "       'University of Michigan',\n",
              "       'Universidad Nacional Autónoma de México',\n",
              "       'University of Colorado Boulder',\n",
              "       'National Research University Higher School of Economics',\n",
              "       'Google Cloud', 'Erasmus University Rotterdam', 'Duke University',\n",
              "       'University of Virginia', 'Atlassian', 'ScrumTrek',\n",
              "       'University of California San Diego', 'Stanford University',\n",
              "       'University of Colorado System', 'Copenhagen Business School',\n",
              "       'Macquarie University', 'Vanderbilt University',\n",
              "       'The University of Edinburgh',\n",
              "       'Technical University of Denmark (DTU)', 'Universidad Austral',\n",
              "       'Arizona State University', 'The Museum of Modern Art',\n",
              "       'National Arts Strategies', 'Università Bocconi',\n",
              "       'Pontificia Universidad Católica de Chile',\n",
              "       'University of California, Davis', 'Autodesk',\n",
              "       'National Taiwan University', 'University of Amsterdam',\n",
              "       'University of California, Santa Cruz',\n",
              "       'Google - Spectrum Sharing', 'Michigan State University',\n",
              "       'Case Western Reserve University', 'University of Cape Town',\n",
              "       'Universitat Autònoma de Barcelona', 'Emory University', 'INSEAD',\n",
              "       'ConsenSys Academy', 'HEC Paris', 'London Business School',\n",
              "       'IE Business School', 'University of Alberta',\n",
              "       'Hebrew University of Jerusalem', 'University of Washington',\n",
              "       'Rice University', 'Osmosis', 'University of Lausanne',\n",
              "       'Peking University', 'Cisco', 'IESE Business School',\n",
              "       'University of Pittsburgh', 'LearnQuest',\n",
              "       'Ludwig-Maximilians-Universität München (LMU)',\n",
              "       'Columbia University', 'Northwestern University',\n",
              "       'Georgia Institute of Technology', 'UCL School of Management',\n",
              "       'Universidad de Chile', 'Google', 'University of Minnesota',\n",
              "       'Wesleyan University', 'University of New Mexico',\n",
              "       'University of Maryland, College Park',\n",
              "       'University System of Georgia',\n",
              "       'The Pennsylvania State University', 'PwC', 'Universiteit Leiden',\n",
              "       'Novosibirsk State University ', 'The University of Sydney',\n",
              "       'Berklee College of Music', 'Ticket for Change', 'Lund University',\n",
              "       'The University of Melbourne', 'Tecnológico de Monterrey',\n",
              "       'American Museum of Natural History', 'University of Geneva',\n",
              "       'Yonsei University', 'New York University',\n",
              "       'Moscow Institute of Physics and Technology',\n",
              "       'Peter the Great St. Petersburg Polytechnic University',\n",
              "       'Imperial College London',\n",
              "       'The University of North Carolina at Chapel Hill',\n",
              "       'The George Washington University',\n",
              "       'The Hong Kong University of Science and Technology',\n",
              "       'West Virginia University', 'Universidad de los Andes',\n",
              "       'The University of Tokyo',\n",
              "       'École Polytechnique Fédérale de Lausanne',\n",
              "       'California Institute of the Arts', 'Institute for the Future',\n",
              "       'Sciences Po', 'ESADE Business and Law School',\n",
              "       'Bloomsbury Learning Exchange', 'SAS', 'SOAS University of London',\n",
              "       'EDHEC Business School', 'University of Florida',\n",
              "       'Rutgers the State University of New Jersey',\n",
              "       'ESSEC Business School', 'The State University of New York',\n",
              "       'Automation Anywhere',\n",
              "       'Luther College at the University of Regina',\n",
              "       'Royal Holloway, University of London', 'ESCP Business School',\n",
              "       'University of London', 'Kalshoven-Gieskes Forum',\n",
              "       'The University of Chicago', 'Goldsmiths, University of London',\n",
              "       'Nanyang Technological University, Singapore',\n",
              "       'UNSW Sydney (The University of New South Wales)',\n",
              "       'New York Institute of Finance', 'Universidade de São Paulo',\n",
              "       'Saint Petersburg State University', 'JetBrains',\n",
              "       'Tsinghua University', 'Shanghai Jiao Tong University',\n",
              "       'Universitat de Barcelona', 'IE School of Architecture & Design',\n",
              "       'McMaster University', 'Cloudera', 'VMware',\n",
              "       'The Linux Foundation', 'Palo Alto Networks', 'MathWorks',\n",
              "       'E-Learning Development Fund', 'BCG',\n",
              "       'Eindhoven University of Technology',\n",
              "       'Universidade Estadual de Campinas', 'HubSpot Academy',\n",
              "       'Crece con Google', 'Fundação Instituto de Administração',\n",
              "       'UCL Institute of Education', 'University of Copenhagen',\n",
              "       'Icahn School of Medicine at Mount Sinai',\n",
              "       'Relay Graduate School of Education',\n",
              "       'Birkbeck, University of London', 'École des Ponts ParisTech',\n",
              "       'American Institute of Business and Economics',\n",
              "       'Tel Aviv University', 'Unity', 'The University of Hong Kong',\n",
              "       'École Polytechnique', 'Mail.Ru Group'], dtype=object)"
            ]
          },
          "metadata": {},
          "execution_count": 32
        }
      ]
    }
  ]
}